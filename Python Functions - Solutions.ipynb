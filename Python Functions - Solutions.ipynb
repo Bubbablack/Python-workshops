{
 "cells": [
  {
   "cell_type": "markdown",
   "metadata": {},
   "source": [
    "## Python Functions - Solutions\n",
    "\n",
    "I know that some of you could not attend the workshop, so here is a summary of the discussions we had on the various exercises, and some of the solutions that people came up with.\n",
    "\n",
    "Remember, there are no 'right' solutions, so if you prefer to tackle an exercise in a different manner, that is perfectly ok.\n"
   ]
  },
  {
   "cell_type": "markdown",
   "metadata": {},
   "source": [
    "#### Exercise 1\n",
    "\n",
    "Write a function that accepts two numbers as inputs, calculates the result of adding them and the result of subtracting them, and return both results.\n",
    "\n",
    "add_sub(53, 27)\n",
    "\n",
    "expected result:\n",
    "80, 26\n"
   ]
  },
  {
   "cell_type": "code",
   "execution_count": 1,
   "metadata": {},
   "outputs": [
    {
     "data": {
      "text/plain": [
       "(80, 26)"
      ]
     },
     "execution_count": 1,
     "metadata": {},
     "output_type": "execute_result"
    }
   ],
   "source": [
    "def add_sub(a, b):\n",
    "    addition = a + b\n",
    "    subtraction = a - b\n",
    "    result = addition, subtraction\n",
    "    return result\n",
    "add_sub(53, 27)\n"
   ]
  },
  {
   "cell_type": "code",
   "execution_count": 2,
   "metadata": {},
   "outputs": [
    {
     "data": {
      "text/plain": [
       "(80, 26)"
      ]
     },
     "execution_count": 2,
     "metadata": {},
     "output_type": "execute_result"
    }
   ],
   "source": [
    "def add_sub(a, b):\n",
    "    return a+b, a-b\n",
    "add_sub(53, 27)\n"
   ]
  },
  {
   "cell_type": "markdown",
   "metadata": {},
   "source": [
    "These are two perfectly acceptable solutions. In practice, you would consider the context and the potential audience. If this is part of a more complex function, it may be better to spell out the steps in detail. If it is just a throw-away function for personal use, the short form is just fine."
   ]
  },
  {
   "cell_type": "markdown",
   "metadata": {},
   "source": [
    "#### Exercise 2\n",
    "\n",
    "Write a function that accepts a list of numbers, and returns the highest number, <b>without</b> using the built-in max() function.\n",
    "\n",
    "get_max([23, 49, 25, 73, 42])\n",
    "\n",
    "expected result:\n",
    "73\n"
   ]
  },
  {
   "cell_type": "code",
   "execution_count": 3,
   "metadata": {},
   "outputs": [
    {
     "data": {
      "text/plain": [
       "73"
      ]
     },
     "execution_count": 3,
     "metadata": {},
     "output_type": "execute_result"
    }
   ],
   "source": [
    "def get_max(list_of_numbers):\n",
    "    max = 0\n",
    "    for num in list_of_numbers:\n",
    "        if num > max:\n",
    "            max = num\n",
    "    return max\n",
    "get_max([23, 49, 25, 73, 42])\n"
   ]
  },
  {
   "cell_type": "markdown",
   "metadata": {},
   "source": [
    "This was my solution, but it was pointed out that it has a flaw. If all the numbers in the list are negative, my solution would return 0, but 0 is not in the list."
   ]
  },
  {
   "cell_type": "code",
   "execution_count": 4,
   "metadata": {},
   "outputs": [
    {
     "data": {
      "text/plain": [
       "0"
      ]
     },
     "execution_count": 4,
     "metadata": {},
     "output_type": "execute_result"
    }
   ],
   "source": [
    "get_max([-23, -29, -25, -73, -42])\n"
   ]
  },
  {
   "cell_type": "markdown",
   "metadata": {},
   "source": [
    "This is a better solution -"
   ]
  },
  {
   "cell_type": "code",
   "execution_count": 5,
   "metadata": {},
   "outputs": [
    {
     "data": {
      "text/plain": [
       "-23"
      ]
     },
     "execution_count": 5,
     "metadata": {},
     "output_type": "execute_result"
    }
   ],
   "source": [
    "def get_max(list_of_numbers):\n",
    "    max = list_of_numbers[0]\n",
    "    for num in list_of_numbers[1:]:\n",
    "        if num > max:\n",
    "            max = num\n",
    "    return max\n",
    "get_max([-23, -49, -25, -73, -42])"
   ]
  },
  {
   "cell_type": "markdown",
   "metadata": {},
   "source": [
    "#### Exercise 3\n",
    "\n",
    "From the 'math' module, import 'pi'.\n",
    "\n",
    "Write a function that calculates the area of a circle. Use pi as a global variable, and the radius as an input argument.\n",
    "\n",
    "calc_area(5)\n",
    "\n",
    "expected result:\n",
    "78.53981633974483\n"
   ]
  },
  {
   "cell_type": "code",
   "execution_count": 6,
   "metadata": {},
   "outputs": [
    {
     "data": {
      "text/plain": [
       "78.53981633974483"
      ]
     },
     "execution_count": 6,
     "metadata": {},
     "output_type": "execute_result"
    }
   ],
   "source": [
    "from math import pi\n",
    "def calc_area(radius):\n",
    "    return pi * (radius**2)\n",
    "calc_area(5)\n"
   ]
  },
  {
   "cell_type": "markdown",
   "metadata": {},
   "source": [
    "This was an easy one. The idea was to demonstrate that a function can use a global variable that is not defined in the function itself."
   ]
  },
  {
   "cell_type": "markdown",
   "metadata": {},
   "source": [
    "#### Exercise 4\n",
    "\n",
    "Write a function that accepts a list of numbers, aand prints the number of odd numbers and the number of even numbers.\n",
    "\n",
    "count_numbers([23, 34, 45, 56, 67, 78, 39])\n",
    "\n",
    "expected result: Odd: 4, Even: 3\n"
   ]
  },
  {
   "cell_type": "code",
   "execution_count": 8,
   "metadata": {},
   "outputs": [
    {
     "name": "stdout",
     "output_type": "stream",
     "text": [
      "Odd: 4, Even: 3\n"
     ]
    }
   ],
   "source": [
    "def count_numbers(list_of_numbers):\n",
    "    odd = even = 0\n",
    "    for num in list_of_numbers:\n",
    "        if num % 2:\n",
    "            odd += 1\n",
    "        else:\n",
    "            even += 1\n",
    "    print(f\"Odd: {odd}, Even: {even}\")\n",
    "count_numbers([23, 34, 45, 56, 67, 78, 39])\n"
   ]
  },
  {
   "cell_type": "markdown",
   "metadata": {},
   "source": [
    "We discussed whether this could be made more efficient. Here is an alternative approach -"
   ]
  },
  {
   "cell_type": "code",
   "execution_count": 10,
   "metadata": {},
   "outputs": [
    {
     "name": "stdout",
     "output_type": "stream",
     "text": [
      "Odd: 4, Even: 3\n"
     ]
    }
   ],
   "source": [
    "def count_numbers(list_of_numbers):\n",
    "    odd = len([_ for _ in list_of_numbers if _ % 2])  # we can use '_' for a 'throw-away' variable\n",
    "    even = len([x for x in list_of_numbers if not x % 2])  # but it is not necessary to do so\n",
    "    print(f\"Odd: {odd}, Even: {even}\")\n",
    "count_numbers([23, 34, 45, 56, 67, 78, 39])\n"
   ]
  },
  {
   "cell_type": "markdown",
   "metadata": {},
   "source": [
    "This uses list comprehensions. They are inherently faster than manually coding a loop. On the other hand, this approach requires two passes through the list, while the original version only required one pass. You would have to run some tests to determine which was faster."
   ]
  },
  {
   "cell_type": "markdown",
   "metadata": {},
   "source": [
    "#### Exercise 5\n",
    "\n",
    "Write a function that accepts 2 numbers, and returns the first number raised to the power of the second number. Use a default value of 2 for the power.\n",
    "\n",
    "calc_power(25, 3)\n",
    "\n",
    "expected result: 15625\n",
    "\n",
    "calc_power(27)\n",
    "\n",
    "expected result: 729\n"
   ]
  },
  {
   "cell_type": "code",
   "execution_count": 12,
   "metadata": {},
   "outputs": [
    {
     "data": {
      "text/plain": [
       "15625"
      ]
     },
     "execution_count": 12,
     "metadata": {},
     "output_type": "execute_result"
    }
   ],
   "source": [
    "def calc_power(number, factor=2):\n",
    "    return number ** factor\n",
    "calc_power(25, 3)\n"
   ]
  },
  {
   "cell_type": "code",
   "execution_count": 13,
   "metadata": {},
   "outputs": [
    {
     "data": {
      "text/plain": [
       "729"
      ]
     },
     "execution_count": 13,
     "metadata": {},
     "output_type": "execute_result"
    }
   ],
   "source": [
    "calc_power(27)\n"
   ]
  },
  {
   "cell_type": "markdown",
   "metadata": {},
   "source": [
    "This was the expected solution. However, someone came up with this very neat solution -"
   ]
  },
  {
   "cell_type": "code",
   "execution_count": 15,
   "metadata": {},
   "outputs": [
    {
     "data": {
      "text/plain": [
       "15625"
      ]
     },
     "execution_count": 15,
     "metadata": {},
     "output_type": "execute_result"
    }
   ],
   "source": [
    "calc_power = lambda x, y=2: x**y\n",
    "calc_power(25, 3)\n"
   ]
  },
  {
   "cell_type": "code",
   "execution_count": 16,
   "metadata": {},
   "outputs": [
    {
     "data": {
      "text/plain": [
       "729"
      ]
     },
     "execution_count": 16,
     "metadata": {},
     "output_type": "execute_result"
    }
   ],
   "source": [
    "calc_power(27)\n"
   ]
  },
  {
   "cell_type": "markdown",
   "metadata": {},
   "source": [
    "#### Exercise 6\n",
    "\n",
    "Write a function that accepts a string, checks if the string is a palindrome (reads the same forwards and backwards), and returns the result.\n",
    "\n",
    "check_palindrome('radar')\n",
    "\n",
    "expected result: True\n",
    "\n",
    "check_palindrome('sonar')\n",
    "\n",
    "expected result: False\n"
   ]
  },
  {
   "cell_type": "markdown",
   "metadata": {},
   "source": [
    "#### Exercise 7\n",
    "\n",
    "Same as Exercise 6, but cater for upper and lower case, spaces, punctuation marks.\n",
    "\n",
    "Did you know that the first sentence ever spoken on earth was a palindrome?\n",
    "\n",
    "check_palindrome(\"Madam, I'm Adam\")\n",
    "\n",
    "expected result: True\n"
   ]
  },
  {
   "cell_type": "markdown",
   "metadata": {},
   "source": [
    "I will discuss 6 & 7 together, as they are similar.\n",
    "\n",
    "One solution involved creating a reverse copy of the string, and comparing it to the original. If they are equal, the string is a palindrome. It works, but I will not show the code here. However, it led to an interesting discussion about the best way to reverse a string. You can do it the long way, but Python usually has a built-in function to do this kind of thing. We tried it, but it did not work as expected."
   ]
  },
  {
   "cell_type": "code",
   "execution_count": 17,
   "metadata": {},
   "outputs": [
    {
     "data": {
      "text/plain": [
       "<reversed at 0x20fd6153d00>"
      ]
     },
     "execution_count": 17,
     "metadata": {},
     "output_type": "execute_result"
    }
   ],
   "source": [
    "s = 'radar'\n",
    "t = reversed(s)\n",
    "t\n"
   ]
  },
  {
   "cell_type": "code",
   "execution_count": 18,
   "metadata": {},
   "outputs": [
    {
     "data": {
      "text/plain": [
       "False"
      ]
     },
     "execution_count": 18,
     "metadata": {},
     "output_type": "execute_result"
    }
   ],
   "source": [
    "s == t\n"
   ]
  },
  {
   "cell_type": "markdown",
   "metadata": {},
   "source": [
    "As you can see, t is not the string 'radar', it is something else. From the prompt, type 'help(reversed)'.\n",
    "\n",
    "```\n",
    "reversed(sequence, /)\n",
    "\n",
    "Return a reverse iterator over the values of the given sequence.\n",
    "```\n",
    "\n",
    "t is an iterator. You will find this a lot in Python. Python does not know what you want to do with reversed(s), so it returns an iterator, which is virtually instant, and leaves it to you to decide what to do with it.\n",
    "\n",
    "If you recall, you can step through an iterator using next(), like this -\n",
    "\n",
    "```\n",
    ">>> s = 'radar'\n",
    ">>> t = reversed(s)\n",
    ">>> next(t)\n",
    "'r'\n",
    ">>> next(t)\n",
    "'a'\n",
    ">>> next(t)\n",
    "'d'\n",
    ">>> next(t)\n",
    "'a'\n",
    ">>> next(t)\n",
    "'r'\n",
    ">>> next(t)\n",
    "Traceback (most recent call last):\n",
    "  File \"<stdin>\", line 1, in <module>\n",
    "StopIteration\n",
    ">>>\n",
    "```\n",
    "\n",
    "How do we turn it back into a string - with the 'join' method.\n",
    "\n",
    "```\n",
    ">>> t = reversed(s)\n",
    ">>> ''.join(t)\n",
    "'radar'\n",
    ">>>\n",
    "```\n",
    "\n",
    "So we could have written our palindrome function using this -\n",
    "\n",
    "```\n",
    ">>> s = 'radar'\n",
    ">>> s == ''.join(reversed(s))\n",
    "True\n",
    ">>> t = 'sonar'\n",
    ">>> t == ''.join(reversed(t))\n",
    "False\n",
    ">>>\n",
    "```\n",
    "\n",
    "Then I offered an alternative solution -"
   ]
  },
  {
   "cell_type": "code",
   "execution_count": 19,
   "metadata": {},
   "outputs": [
    {
     "data": {
      "text/plain": [
       "True"
      ]
     },
     "execution_count": 19,
     "metadata": {},
     "output_type": "execute_result"
    }
   ],
   "source": [
    "def palindrome(s):\n",
    "    # remove all non-alpha characters, set the rest to lower-case\n",
    "    # [In] \"Madam, I'm Adam\"\n",
    "    # [Out] ['m', 'a', 'd', 'a', 'm', 'i', 'm', 'a', 'd', 'a', 'm']\n",
    "    s = [_.lower() for _ in s if _.isalpha()]\n",
    "    \n",
    "    # compare the left-most with the right-most character\n",
    "    # if not equal, it is not a palindrome\n",
    "    # if equal, repeat one level in, until you reach the middle\n",
    "    for pos in range(len(s)//2):\n",
    "        if s[pos] != s[-pos-1]:  # compare [0] with [-1], [1] with [-2], etc\n",
    "            return False\n",
    "    return True\n",
    "palindrome(\"Madam, I'm Adam\")\n"
   ]
  },
  {
   "cell_type": "markdown",
   "metadata": {},
   "source": [
    "#### Exercise 8\n",
    "\n",
    "Write a function that accepts a number that represents an exam mark.\n",
    "\n",
    "The number must be between 0 and 100. If it is not, print('Invalid mark')\n",
    "\n",
    "If the mark is < 50, print('Fail')\n",
    "\n",
    "If the result is >= 50, print a row of asterisks, one for each 5 points above the pass mark. 50-54 gets one, 55-59 gets 2, etc.\n",
    "\n",
    "If the number of asterisks exceeds 6, print 'Distinction!'.\n"
   ]
  },
  {
   "cell_type": "markdown",
   "metadata": {},
   "source": [
    "I won't show the complete solution, but I will show a neat algorithm for calculating the number of asterisks -\n",
    "\n",
    "```\n",
    ">>> for i in range(50, 70):\n",
    "...     print(i, '*' * ((i-50) // 5 + 1))\n",
    "...\n",
    "50 *\n",
    "51 *\n",
    "52 *\n",
    "53 *\n",
    "54 *\n",
    "55 **\n",
    "56 **\n",
    "57 **\n",
    "58 **\n",
    "59 **\n",
    "60 ***\n",
    "61 ***\n",
    "62 ***\n",
    "63 ***\n",
    "64 ***\n",
    "65 ****\n",
    "66 ****\n",
    "67 ****\n",
    "68 ****\n",
    "69 ****\n",
    ">>>\n",
    "```\n",
    "\n",
    "It took me a while, playing at the interpreter and with pencil and paper, before coming up with that. I enjoy the challenge of coming up with algorithms like this.\n"
   ]
  },
  {
   "cell_type": "markdown",
   "metadata": {},
   "source": [
    "#### Exercise 9\n",
    "\n",
    "Write a function that accepts a hyphen-separated string of words. Return a new hyphen-separated string with the words sorted in reverse alphabetical order.\n",
    "\n",
    "rev_sort('apples-pears-oranges-bananas')\n",
    "\n",
    "Expected result: 'pears-oranges-bananas-apples'\n",
    "\n"
   ]
  },
  {
   "cell_type": "markdown",
   "metadata": {},
   "source": [
    "This is a case where Python's built-in functions make this easy -\n",
    "\n",
    "```\n",
    ">>> orig = 'apples-pears-oranges-bananas'\n",
    ">>> rev = '-'.join(reversed(sorted(orig.split('-'))))\n",
    ">>> rev\n",
    "'pears-oranges-bananas-apples'\n",
    ">>>\n",
    "```\n"
   ]
  },
  {
   "cell_type": "markdown",
   "metadata": {},
   "source": [
    "#### Exercise 10\n",
    "\n",
    "Take the following function, and refactor it by moving repeated code into a nested function.\n",
    "\n",
    "```\n",
    "def calc_vat(inv_amount, tax_cat, tax_incl):\n",
    "    \"\"\"Calculate the vat amount using invoice amount, tax category and tax inclusive.\n",
    "    \n",
    "    inv_amount: the amount to calculate the tax on\n",
    "    \n",
    "    tax_cat: if 'std', the rate is 15%; if 'lux', the rate is 25%\n",
    "    \n",
    "    tax_incl:\n",
    "        if True, the inv_amount includes tax, and the calculation is inv_amount * tax_rate / (100 + tax_rate)\n",
    "        if False, the inv_amount excludes tax, and the calculation is inv_amount * tax_rate / 100\n",
    "    \"\"\"\n",
    "\n",
    "    if tax_cat == 'std':\n",
    "        if tax_incl:\n",
    "            tax_amount = inv_amount * 15 / (100 * tax_rate)\n",
    "        else:\n",
    "            tax_amount = inv_amount * 15 / 100\n",
    "     elif tax_cat == 'lux':\n",
    "        if tax_incl:\n",
    "            tax_amount = inv_amount * 25 / (100 * tax_rate)\n",
    "        else:\n",
    "            tax_amount = inv_amount * 25 / 100\n",
    "     return tax_amount\n",
    "```\n",
    "    "
   ]
  },
  {
   "cell_type": "markdown",
   "metadata": {},
   "source": [
    "Here is one possible solution -\n",
    "\n",
    "```\n",
    ">>> def calc_vat(inv_amount, tax_cat, tax_incl):\n",
    "...     def inner_calc(inv_amount, rate, tax_incl):\n",
    "...         if tax_incl:\n",
    "...             return inv_amount * rate / (100 + rate)\n",
    "...         else:\n",
    "...             return inv_amount * rate / 100\n",
    "...     if tax_cat == 'std':\n",
    "...         rate = 15\n",
    "...     elif tax_cat == 'lux':\n",
    "...         rate = 25\n",
    "...     return inner_calc(inv_amount, rate, tax_incl)\n",
    "...\n",
    ">>> calc_vat(115, 'std', True)\n",
    "15.0\n",
    ">>>\n",
    "```\n",
    "\n",
    "The main point of interest is that the vat calculation is only done once. In the original example, it was done twice.\n",
    "\n",
    "The principle is called DRY - Don't Repeat Yourself."
   ]
  },
  {
   "cell_type": "code",
   "execution_count": null,
   "metadata": {},
   "outputs": [],
   "source": []
  }
 ],
 "metadata": {
  "kernelspec": {
   "display_name": "Python 3",
   "language": "python",
   "name": "python3"
  },
  "language_info": {
   "codemirror_mode": {
    "name": "ipython",
    "version": 3
   },
   "file_extension": ".py",
   "mimetype": "text/x-python",
   "name": "python",
   "nbconvert_exporter": "python",
   "pygments_lexer": "ipython3",
   "version": "3.8.2"
  }
 },
 "nbformat": 4,
 "nbformat_minor": 4
}
