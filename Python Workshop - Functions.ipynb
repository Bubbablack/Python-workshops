{
 "cells": [
  {
   "cell_type": "markdown",
   "metadata": {},
   "source": [
    "## Python Functions\n",
    "\n",
    "A function is a self-contained block of code.\n",
    "\n",
    "It always returns a value. If no return value is specified, Python will return None.\n",
    "\n",
    "It is usually called with 'arguments', which provide input values to the function.\n",
    "\n",
    "It can be called anywhere in your code where a value is required.\n"
   ]
  },
  {
   "cell_type": "markdown",
   "metadata": {},
   "source": [
    "## Built-in functions\n",
    "\n",
    "There are a number of functions built-in to Python, such as int(), str(), sum(), min()\n"
   ]
  },
  {
   "cell_type": "code",
   "execution_count": 7,
   "metadata": {},
   "outputs": [
    {
     "data": {
      "text/plain": [
       "245"
      ]
     },
     "execution_count": 7,
     "metadata": {},
     "output_type": "execute_result"
    }
   ],
   "source": [
    "int('245')"
   ]
  },
  {
   "cell_type": "code",
   "execution_count": 10,
   "metadata": {},
   "outputs": [
    {
     "data": {
      "text/plain": [
       "\"['a', 'b', 'c']\""
      ]
     },
     "execution_count": 10,
     "metadata": {},
     "output_type": "execute_result"
    }
   ],
   "source": [
    "str(['a', 'b', 'c'])"
   ]
  },
  {
   "cell_type": "code",
   "execution_count": 4,
   "metadata": {},
   "outputs": [
    {
     "data": {
      "text/plain": [
       "24"
      ]
     },
     "execution_count": 4,
     "metadata": {},
     "output_type": "execute_result"
    }
   ],
   "source": [
    "sum([5,3,6,2,8])"
   ]
  },
  {
   "cell_type": "code",
   "execution_count": 9,
   "metadata": {},
   "outputs": [
    {
     "data": {
      "text/plain": [
       "2"
      ]
     },
     "execution_count": 9,
     "metadata": {},
     "output_type": "execute_result"
    }
   ],
   "source": [
    "min([5,3,6,2,8])"
   ]
  },
  {
   "cell_type": "markdown",
   "metadata": {},
   "source": [
    "For a full list, see https://docs.python.org/3.8/library/functions.html#built-in-funcs"
   ]
  },
  {
   "cell_type": "markdown",
   "metadata": {},
   "source": [
    "## User-defined functions\n",
    "\n",
    "Python allows you to define your own functions, which can be called in the same way as a built-in function.\n",
    "\n",
    "Why might you want to define your own function? Here are a few reasons."
   ]
  },
  {
   "cell_type": "markdown",
   "metadata": {},
   "source": [
    "#### Writing code for others to use\n",
    "\n",
    "If you are writing a library for other people to use, you will probably use a mixture of classes and functions to define the functionality that your library provides.\n",
    "\n",
    "You can publish an API detailing which functions are available, and how to call them."
   ]
  },
  {
   "cell_type": "markdown",
   "metadata": {},
   "source": [
    "#### Repeated code\n",
    "If you have the same logic repeated in various parts of your program, you should create a function encapsulating that logic, and replace all occurrences in the program with a call to the function.\n",
    "\n",
    "Benefit - if the logic changes, or you refactor, you only have to change it in one place, and all occurrences will automatically pick up the change. Otherwise there is a risk of making errors in one place, or forgetting to change it altogether in another place."
   ]
  },
  {
   "cell_type": "markdown",
   "metadata": {},
   "source": [
    "#### Complicated code\n",
    "If you have a complicated section of code in a larger program, it can detract from readability if the reader is trying to focus on another section of the code. Move the complicated secion into its own function, and replace it in the main section with a call to the function.\n",
    "\n",
    "Benefit - greatly enhanced readability."
   ]
  },
  {
   "cell_type": "markdown",
   "metadata": {},
   "source": [
    "#### Break up a large function\n",
    "If you have a function that is so long that it cannot be viewed on one screen, it becomes difficult to keep track of the logic. You can usually find a section of the code that performs a specific sub-task. Move that code to a separate function and replace it with a call to the function.\n",
    "\n",
    "Benefit - greatly enhanced readability"
   ]
  },
  {
   "cell_type": "markdown",
   "metadata": {},
   "source": [
    "## How do you write a function?\n",
    "\n",
    "The first line must always look like this -\n",
    "\n",
    "    'def'\n",
    "    [space]\n",
    "    the name of the function\n",
    "    [open bracket]\n",
    "    any required input arguments, separated by commas\n",
    "    [close bracket]\n",
    "    [colon]\n",
    "    \n",
    "`def my_function(arg1, arg2):`\n",
    "    "
   ]
  },
  {
   "cell_type": "markdown",
   "metadata": {},
   "source": [
    "#### Arguments\n",
    "\n",
    "When you write a function, you must decide which input arguments are required.\n",
    "\n",
    "Give each one a meaningful name, and list them, separated by commas, inside the brackets after the function name.\n",
    "\n",
    "e.g. if you have a function to calculate the area of a rectangle, you will need to know the length and height, so your function definition will look like this -\n",
    "\n",
    "`def calc_area(length, height):`\n",
    "\n",
    "Anyone who wants to use your function must read the definition, and supply the values for the specified parameters.\n"
   ]
  },
  {
   "cell_type": "markdown",
   "metadata": {},
   "source": [
    "#### Docstring\n",
    "\n",
    "The second line should always be a 'docstring'. You can skip it if you are writing a throw-away function for yourself, but if it is to be read by anyone else, it should be included.\n",
    "\n",
    "It is a string, enclosed in triple-quotes, which describes what the function does. If the description fits on one line, it should begin and end with triple-quotes on the same line, like this -\n",
    "\n",
    "```\n",
    "\"\"\"Calculate the area.\"\"\"\n",
    "```\n",
    "\n",
    "If the description is longer, it should consist of a one-line short description, followed by a blank line, followed by the rest of the description, like this -\n",
    "\n",
    "```\n",
    "\"\"\"Calculate the area.\n",
    "\n",
    "Take the input values for length and height, multiply\n",
    "them to calculate the area, and return the result.\n",
    "\"\"\"\n",
    "```\n",
    "\n",
    "It is important to follow these guidelines, as many smart editors and IDE's, including VSCode, will detect and display the docstring to a programmer wanting to call the function.\n",
    "\n",
    "Docstrings are described in detail here - https://www.python.org/dev/peps/pep-0257/"
   ]
  },
  {
   "cell_type": "markdown",
   "metadata": {},
   "source": [
    "## So let's write a function\n"
   ]
  },
  {
   "cell_type": "code",
   "execution_count": 1,
   "metadata": {},
   "outputs": [
    {
     "data": {
      "text/plain": [
       "364.375"
      ]
     },
     "execution_count": 1,
     "metadata": {},
     "output_type": "execute_result"
    }
   ],
   "source": [
    "def calc_area(length, height):\n",
    "    \"\"\"Calculate and return the area of a rectangle\"\"\"\n",
    "    area = length * height\n",
    "    return area\n",
    "\n",
    "calc_area(27.5, 13.25)"
   ]
  },
  {
   "cell_type": "markdown",
   "metadata": {},
   "source": [
    "## Default arguments\n",
    "\n",
    "Normally the caller of the function must supply the arguments specified by the function definition.\n",
    "\n",
    "If the function definition looks like this -\n",
    "\n",
    "```\n",
    "def my_function(arg1, arg2, arg3):\n",
    "```\n",
    "\n",
    "then you must supply 3 values when you call the function, otherwise you will get an exception.\n",
    "\n",
    "However, it the function definition looks like this -\n",
    "\n",
    "```\n",
    "def my_function(arg1, arg2, arg3=None):\n",
    "```\n",
    "\n",
    "then arg3 has what is known as a 'default' argument. This means that the caller is allowed to omit the value, in which case the function will use the default (in this case None). If the caller does supply a value, that value will be used instead.\n",
    "\n"
   ]
  },
  {
   "cell_type": "markdown",
   "metadata": {},
   "source": [
    "## Positional and keyword arguments\n",
    "\n",
    "The caller of the function can supply the values using positional arguments and/or keyword arguments.\n",
    "\n",
    "'Positional' means that the values supplied will by assigned to the argument list in the order that they appear.\n",
    "\n",
    "If the function definition looks like this -\n",
    "\n",
    "```\n",
    "def my_function(arg1, arg2, arg3):\n",
    "```\n",
    "\n",
    "and the caller calls it like this -\n",
    "\n",
    "```\n",
    "my_function(23, 34, 45)\n",
    "```\n",
    "\n",
    "then arg1 will be assigned 23, arg2 will get 34, and arg3 will get 45.\n",
    "\n",
    "However, if the caller calls it like this -\n",
    "\n",
    "```\n",
    "my_function(arg2=67, arg3=27, arg1=43)\n",
    "```\n",
    "\n",
    "then the values will be assigned according to their names.\n",
    "\n",
    "These are called 'keyword' arguments.\n",
    "\n",
    "If you use both, you must list the positional arguments first, followed by any keyword arguments."
   ]
  },
  {
   "cell_type": "markdown",
   "metadata": {},
   "source": [
    "## Mixing default and positional arguments\n",
    "\n",
    "Normally it does not matter which method is used, but consider the situation if the function definition includes default arguments.\n",
    "\n",
    "```\n",
    "def my_function(arg1, arg2, arg3=100, arg4=200)\n",
    "```\n",
    "\n",
    "If the caller wants to use the default for arg3, but supply a value for arg4, how do the values get assigned.\n",
    "\n",
    "The answer is that the caller <b>can</b> use positional arguments for the first 2, but <b>must</b> use a keyword argument for arg4 -\n",
    "\n",
    "```\n",
    "my_function(22, 33, arg4=55)\n",
    "```\n",
    "\n",
    "or\n",
    "\n",
    "```\n",
    "my_function(arg1=22, arg2=33, arg4=55)\n",
    "```\n",
    "\n"
   ]
  },
  {
   "cell_type": "markdown",
   "metadata": {},
   "source": [
    "## Where to place the 'return' statment\n",
    "\n",
    "In a small function, the answer is obvious. You perform the function and return the result, so the last statement is 'return'.\n",
    "\n",
    "However, if a function is long and complex, there can be various 'exit' points depending on certain conditions, so there could be more than one 'return' point.\n",
    "\n",
    "This is definitely a potential source of problems, as a casual reader may not notice them all. Because of this, there is a school of thought which says that a function should only have one return statement, which will always be at the end.\n",
    "\n",
    "Personally, I think that this is too strict, and can lead to some awkward-looking code.\n",
    "\n",
    "For example, the function may start by checking the input parameters and returning with an error message if any do not meet the spec. I think that returning straight away is the right think to do here, as it should be clear to anyone reading the code.\n",
    "\n",
    "My advice is to be aware of the problem and try to minimise it, but if the most natural way to program the function is to have several exit points then document it clearly in the docstring, so that readers are forewarned.\n"
   ]
  },
  {
   "cell_type": "markdown",
   "metadata": {},
   "source": [
    "## Functions and TDD\n",
    "\n",
    "What follows is my personal opinion - feel free to disagree.\n",
    "\n",
    "Articles on TDD state that you must write the tests before you write any code.\n",
    "\n",
    "If you are writing a new function, and you intend to use TDD, it requires careful planning. I believe that the sequence of events should be as follows -\n",
    "\n",
    "1. Think carefully about what the function is intended to achieve.\n",
    "2. Based on that, think of a name for the function that accurately reflects that intention.\n",
    "3. Decide what input parameters will be required to achieve it.\n",
    "4. Come up with a docstring that describes the intended use, plus any relevant information about the expected parameters.\n",
    "5. Start to code the function, with the name, the input parameters, the docstring, and the return value, but with 'pass' for the body.\n",
    "\n",
    "Then start thinking about what tests you will require to prove that the function is behaving as intended.\n"
   ]
  },
  {
   "cell_type": "markdown",
   "metadata": {},
   "source": [
    "## Gotchas\n",
    "\n",
    "There are a number of traps for newbies to fall into. Here are a few I can think of."
   ]
  },
  {
   "cell_type": "markdown",
   "metadata": {},
   "source": [
    "#### Namespaces (also known as 'scopes')\n",
    "\n",
    "A 'namespace' (or 'scope') is where Python looks to find a variable that you have referred to in your code.\n",
    "\n",
    "In a function, there are two scopes -\n",
    "1. The 'local' scope, for variables defined inside the function. These will not be visible outside the function.\n",
    "2. The 'global' scope, which means the main body of the program being executed.\n",
    "\n",
    "The rules are -\n",
    "1. When <b>getting</b> the value of a variable, Python first looks in the local scope. If it finds it, it will use it. If it does not find it, it will look in the global scope. If it finds it there, it will use it. Otherwise it will raise NameError.\n",
    "2. When <b>setting</b> the value of a variable, Python will always use the local scope (unless the 'global' keyword is used, but this is not common, so ignore it for now)."
   ]
  },
  {
   "cell_type": "markdown",
   "metadata": {},
   "source": [
    "#### Example 1\n",
    "\n",
    "```\n",
    ">>> x = 23\n",
    ">>> def add(y):\n",
    "...   z = x + y\n",
    "...   return z\n",
    "...\n",
    ">>> add(34)\n",
    "57\n",
    "```\n",
    "\n",
    "In this example, when adding x and y, Python looks for x locally, does not find it, looks for it globally, and finds it. It then looks for y locally, and finds it in the argument list (which is part of the local scope). It adds the two values, assigns the result to z, and returns z."
   ]
  },
  {
   "cell_type": "markdown",
   "metadata": {},
   "source": [
    "#### Example 2\n",
    "\n",
    "```\n",
    ">>> x = 23\n",
    ">>> def add2(y):\n",
    "...   x = x + y\n",
    "...   return x\n",
    "...\n",
    ">>> add2(34)\n",
    "Traceback (most recent call last):\n",
    "  File \"<stdin>\", line 1, in <module>\n",
    "  File \"<stdin>\", line 2, in add2\n",
    "UnboundLocalError: local variable 'x' referenced before assignment\n",
    ">>>\n",
    "```\n",
    "\n",
    "In this example, we tried to assign the result back to x. This immediately means that x is treated as a local variable, and Python will not use the global scope for it. But because we said 'x = x + y', it needs a value for x on the right-hand side before it can assign it to x on the left-hand side. At that point, x has no value inside the function, and that is why the exception was raised."
   ]
  },
  {
   "cell_type": "markdown",
   "metadata": {},
   "source": [
    "#### Mutable default arguments\n",
    "\n",
    "```\n",
    ">>> def foo(bar=[]):\n",
    "...   bar.append('baz')\n",
    "...   return bar\n",
    "...\n",
    ">>>\n",
    ">>> foo()\n",
    "['baz']\n",
    ">>>\n",
    ">>> foo()\n",
    "['baz', 'baz']\n",
    ">>>\n",
    ">>> foo()\n",
    "['baz', 'baz', 'baz']\n",
    ">>>\n",
    "```\n",
    "\n",
    "Personally I have never had this problem as I don't program this way, but apparently some people do.\n",
    "\n",
    "The intention is that, each time foo() is called, it 'could' be passed a list, but it defaults to the empty list. The function appends 'bar' to the list and returns it.\n",
    "\n",
    "As you can see, it keeps growing. The reason is that the default value of 'bar' is only evaluated once, when the function is defined. As bar is 'mutable', and is returned to the caller, the next call will use the same list, which already contains a value."
   ]
  },
  {
   "cell_type": "markdown",
   "metadata": {},
   "source": [
    "#### Solution:\n",
    "\n",
    "If you need this functionality, the recommended solution is to do it like this -\n",
    "\n",
    "```\n",
    ">>> def foo(bar=None):\n",
    "...   if bar is None:\n",
    "...     bar = []\n",
    "...   bar.append('baz')\n",
    "...   return bar\n",
    "...\n",
    ">>> foo()\n",
    "['baz']\n",
    ">>>\n",
    ">>> foo()\n",
    "['baz']\n",
    ">>>\n",
    ">>> foo()\n",
    "['baz']\n",
    ">>>\n",
    "```"
   ]
  },
  {
   "cell_type": "markdown",
   "metadata": {},
   "source": [
    "#### Forgetting the brackets!\n",
    "\n",
    "Once created, a function is a Python object in its own right. It exists in the global scope, and it can be passed around as an argument to other functions.\n",
    "\n",
    "To <b>refer to</b> a function, you simply use its name without brackets.\n",
    "\n",
    "To <b>call</b> the function, and get a return value, you must use its name with the brackets plus any required parameters.\n",
    "\n",
    "It is a common newbie error, especially in the middle of a complex expression, to omit the brackets, and then wonder what went wrong!\n"
   ]
  },
  {
   "cell_type": "code",
   "execution_count": null,
   "metadata": {},
   "outputs": [],
   "source": []
  }
 ],
 "metadata": {
  "kernelspec": {
   "display_name": "Python 3",
   "language": "python",
   "name": "python3"
  },
  "language_info": {
   "codemirror_mode": {
    "name": "ipython",
    "version": 3
   },
   "file_extension": ".py",
   "mimetype": "text/x-python",
   "name": "python",
   "nbconvert_exporter": "python",
   "pygments_lexer": "ipython3",
   "version": "3.8.2"
  }
 },
 "nbformat": 4,
 "nbformat_minor": 4
}
