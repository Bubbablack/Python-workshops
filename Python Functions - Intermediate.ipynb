{
 "cells": [
  {
   "cell_type": "markdown",
   "metadata": {},
   "source": [
    "## Python Functions\n",
    "\n",
    "A function is a self-contained block of code.\n",
    "\n",
    "It always returns a value. If no return value is specified, Python will return None.\n",
    "\n",
    "It is usually called with 'arguments', which provide input values to the function.\n",
    "\n",
    "It can be called anywhere in your code where a value is required.\n",
    "\n",
    "The basics were explained in 'Python Functions - Basics'\n",
    "\n",
    "If you have not read it, please do so before continuing.\n"
   ]
  },
  {
   "cell_type": "markdown",
   "metadata": {},
   "source": [
    "\n",
    "## The 'global' keyword\n",
    "\n",
    "This was mentioned previously but not explained, as it is not commonly used.\n",
    "\n",
    "However, there are times when it is useful.\n"
   ]
  },
  {
   "cell_type": "markdown",
   "metadata": {},
   "source": [
    "#### 'local scope' and 'global scope'\n",
    "\n",
    "As explained before, in a function, there are two scopes -\n",
    "\n",
    "1. The 'local' scope, for variables defined inside the function. These will not be visible outside the function.\n",
    "2. The 'global' scope, which means the main body of the program being executed.\n",
    "\n",
    "The rules are -\n",
    "\n",
    "1. When <b>getting</b> the value of a variable, Python first looks in the local scope. If it finds it, it will use it. If it does not find it, it will look in the global scope. If it finds it there, it will use it. Otherwise it will raise NameError.\n",
    "2. When <b>setting</b> the value of a variable, Python will always use the local scope, unless the 'global' keyword is used."
   ]
  },
  {
   "cell_type": "markdown",
   "metadata": {},
   "source": [
    "#### Example 1\n",
    "\n",
    "```\n",
    ">>> x = 20\n",
    ">>> y = 30\n",
    ">>>\n",
    ">>> def add(z):\n",
    "...     x = 50\n",
    "...     return x + z\n",
    "...\n",
    ">>> add(25)\n",
    "75\n",
    ">>>\n",
    ">>> x\n",
    "20\n",
    "```\n",
    "\n",
    "In this example, 'x' exists as both a global and a local variable.\n",
    "\n",
    "Python looked for 'x' locally, found it, and used it. It did not look in the global scope, so ignored the 'x' there.\n",
    "\n",
    "But what if you <b>wanted</b> to use the global variable 'x', and change its value?\n"
   ]
  },
  {
   "cell_type": "markdown",
   "metadata": {},
   "source": [
    "#### Example 2\n",
    "\n",
    "```\n",
    ">>> x = 20\n",
    ">>> y = 30\n",
    ">>>\n",
    ">>> def add(z):\n",
    "...     global x\n",
    "...     x = 50\n",
    "...     return x + z\n",
    "...\n",
    ">>> add(25)\n",
    "75\n",
    ">>>\n",
    ">>> x\n",
    "50\n",
    "```\n",
    "\n",
    "Here we added the line 'global x'. This tells Python to use the global value of 'x', and not treat it as a local variable.\n",
    "\n",
    "As you can see, the function ran the same as before, but on return, the global value of 'x' has been changed.\n"
   ]
  },
  {
   "cell_type": "markdown",
   "metadata": {},
   "source": [
    "#### Why?\n",
    "\n",
    "Why might you want to use this? There are several reasons, but here is one scenario that I have used on occasion.\n",
    "\n",
    "I have a module with a number of functions available for use by anyone who 'imports' the module.\n",
    "\n",
    "Most of the functions are used to 'return' various values, but one of them is used to 'change' one or more values.\n",
    "\n",
    "My solution was to place all the values at the top of the module, so that they are in the 'global' scope.\n",
    "\n",
    "The functions that 'return' the values do not declare the variables at all. They just return them.\n",
    "\n",
    "The function that 'changes' the values declares them locally, using the global keyword. When called it changes the global values that will be returned next time one of the other functions is called.\n"
   ]
  },
  {
   "cell_type": "markdown",
   "metadata": {},
   "source": [
    "## Positional / keyword arguments\n",
    "\n",
    "I explained the difference between positional and keyword arguments earlier. I showed how it is up to the caller of the function to decide whether to use one or the other or a combination. The main rule is that positional arguments must always appear before keyword arguments in the argument list.\n",
    "\n",
    "But what if the person who wrote the function wants to ensure that some arguments are called positionally, or that others are called using keywords.  I won't go into the reasons here, as it is unlikely that you will want to do it yourself at this stage. But it is important that you understand the syntax, as you may see it being used in functions that you want to call.\n"
   ]
  },
  {
   "cell_type": "markdown",
   "metadata": {},
   "source": [
    "#### Specify keyword arguments\n",
    "\n",
    "```\n",
    "def my_function(arg1, arg2, *, arg3, arg4):\n",
    "```\n",
    "\n",
    "The asterisk in the middle is not an argument itself. It splits the list into two parts. Any arguments before the asterisk can be called using positional or keyword arguments. Any arguments after the asterisk must be called using keywords.\n"
   ]
  },
  {
   "cell_type": "markdown",
   "metadata": {},
   "source": [
    "#### Specify positional arguments\n",
    "\n",
    "```\n",
    "def my_function(arg1, arg2, /, arg3, arg4):\n",
    "```\n",
    "\n",
    "Here, the forward slash means that any arguments to the left must be called as positional arguments. Any to the right can be called using either method.\n",
    "\n",
    "This feature was added in Python 3.8.\n"
   ]
  },
  {
   "cell_type": "markdown",
   "metadata": {},
   "source": [
    "#### Combining the rules\n",
    "\n",
    "```\n",
    "def my_function(arg1, arg2, /, arg3, arg4, *, arg5, arg6):\n",
    "```\n",
    "\n",
    "As you would expects, arg1/2 must be positional, arg3/4 can be either, arg5/6 must be keyword.\n"
   ]
  },
  {
   "cell_type": "markdown",
   "metadata": {},
   "source": [
    "## Nested functions\n",
    "\n",
    "You are allowed to declare a function inside another function. This is known as a 'nested' function.\n",
    "\n",
    "```\n",
    ">>> def outer_func(arg1, arg2):\n",
    "...     def inner_func():\n",
    "...       return arg1 + arg2\n",
    "...     return inner_func()\n",
    "...\n",
    ">>> outer_func(23, 45)\n",
    "68\n",
    "```\n",
    "\n",
    "The outer function declares the inner function, then calls it (note the brackets), and returns the result.\n",
    "\n",
    "Any variables visible to the outer function are automatically visible to the inner function.\n",
    "\n",
    "```\n",
    ">>> def outer_func(arg1, arg2):\n",
    "...     arg3 = 99\n",
    "...     def inner_func():\n",
    "...       return arg1 + arg2 + arg3\n",
    "...     return inner_func()\n",
    "...\n",
    ">>> outer_func(23, 45)\n",
    "167\n",
    "```\n",
    "\n"
   ]
  },
  {
   "cell_type": "markdown",
   "metadata": {},
   "source": [
    "#### Scoping rules\n",
    "\n",
    "We talked previously about global scope and local scope. When you nest functions, a third scope is created. This is called the 'nonlocal' scope.\n",
    "\n",
    "When you use a variable in the inner function, Python first looks to see if it is declared inside the inner function. This is the local scope, and works the same as before.\n",
    "\n",
    "If it does not find it there, it looks in the outer function. This is the 'nonlocal' scope. If it finds it there it will use it.\n",
    "\n",
    "If it does not find it there, it looks in the global scope, which works the same as before.\n"
   ]
  },
  {
   "cell_type": "markdown",
   "metadata": {},
   "source": [
    "#### The 'nonlocal' keyword\n",
    "\n",
    "We have seen how to use the 'global' keyword, to force Python to use the global scope for a particular variable.\n",
    "\n",
    "There is also a 'nonlocal' keyword. This forces Python to use the nonlocal scope for a variable while inside the inner function."
   ]
  },
  {
   "cell_type": "markdown",
   "metadata": {},
   "source": [
    "#### Example 1\n",
    "\n",
    "```\n",
    ">>> def outer_func(arg1, arg2):\n",
    "...     arg3 = 99\n",
    "...     def inner_func():\n",
    "...         arg3 = 33\n",
    "...         return arg1 + arg2\n",
    "...     value = inner_func()\n",
    "...     return value + arg3\n",
    "...\n",
    ">>> outer_func(23, 45)\n",
    "167\n",
    "```\n",
    "\n",
    "Here inner_func declares arg3, but this is not visible in outer_func, so there arg3 still has the value 99.\n"
   ]
  },
  {
   "cell_type": "markdown",
   "metadata": {},
   "source": [
    "#### Example 2\n",
    "\n",
    "```\n",
    ">>> def outer_func(arg1, arg2):\n",
    "...     arg3 = 99\n",
    "...     def inner_func():\n",
    "...         nonlocal arg3\n",
    "...         arg3 = 33\n",
    "...         return arg1 + arg2\n",
    "...     value = inner_func()\n",
    "...     return value + arg3\n",
    "...\n",
    ">>> outer_func(23, 45)\n",
    "101\n",
    ">>>\n",
    "```\n",
    "\n",
    "Again inner_func declares arg3, but this time with the 'nonlocal' keyword. This causes the value in outer_func to change to 33.\n"
   ]
  },
  {
   "cell_type": "markdown",
   "metadata": {},
   "source": [
    "#### When to use nested functions\n",
    "\n",
    "There are actually many uses for nested functions. Some of them are very advanced, such as 'closures' and 'decorators'. However, I will not talk about those here. That can wait for an 'Advanced' workshop.\n",
    "\n",
    "There are a couple of situations where I have found them useful.\n",
    "\n"
   ]
  },
  {
   "cell_type": "markdown",
   "metadata": {},
   "source": [
    "#### Lengthy or complicated functions\n",
    "\n",
    "I previously recommended breaking up long or complicated sections of code into functions, as this is a great way to enhance readability.\n",
    "\n",
    "The same can apply to a function itself. If it starts getting difficult to follow, use the same technique. Sometimes it makes sense to create the new functions globally, but often it is better to keep them within the function, as they share their variables, and do not clutter up the global scope.\n",
    "\n",
    "I have frequently used the technique to tidy up my own code, like this.\n"
   ]
  },
  {
   "cell_type": "markdown",
   "metadata": {},
   "source": [
    "#### Before:\n",
    "\n",
    "```\n",
    "def my_function(a, b, c):\n",
    "    [many lines of complicated code]\n",
    "    return result\n",
    "```\n"
   ]
  },
  {
   "cell_type": "markdown",
   "metadata": {},
   "source": [
    "#### After:\n",
    "\n",
    "```\n",
    "    def my_function(a, b, c):\n",
    "        def sub_function_1(input_values):\n",
    "            [perform some long calculation]\n",
    "            return result\n",
    "        def sub_function_2(input_values):\n",
    "            [perform some long calculation]\n",
    "            return result\n",
    "        def sub_function_3(input_values):\n",
    "            [perform some long calculation]\n",
    "            return result\n",
    "        result_1 = sub_function_1(a)\n",
    "        result_2 = sub_function_2(b, result_1)\n",
    "        result_3 = sub_function_3(c, result_2)\n",
    "        return result_3\n",
    "```\n",
    "\n",
    "It is now much easier to follow, and you can focus on the sub-sections of the calculation one at a time.\n",
    "\n",
    "\n"
   ]
  },
  {
   "cell_type": "markdown",
   "metadata": {},
   "source": [
    "#### Processing a for-loop\n",
    "\n",
    "The principle is the same. If the processing section is long, you can lose track of where you are in the loop. Even if you only create one sub-function, it becomes easier to read -\n",
    "\n",
    "#### Before:\n",
    "\n",
    "```\n",
    "def my_function(input_list):\n",
    "    for item in input_list:\n",
    "        [long section of code]\n",
    "```\n",
    "\n",
    "#### After:\n",
    "\n",
    "```\n",
    "def my_function(input_list):\n",
    "    def process_item(item):\n",
    "        [long section of code]\n",
    "    for item in input_list:\n",
    "        process_item(item)\n",
    "```\n"
   ]
  },
  {
   "cell_type": "markdown",
   "metadata": {},
   "source": [
    "#### Recursive functions\n",
    "\n",
    "I am actually going to talk about recursive functions next, but it worth mentioning here that when I do use a recursive function, I often code it as a nested function within the main function that I am working on.\n"
   ]
  },
  {
   "cell_type": "markdown",
   "metadata": {},
   "source": [
    "## Recursive functions\n",
    "\n",
    "A recursive function is a function that calls itself. If that sounds confusing, don't worry - it can take a bit of time to wrap your mind around what is happening.\n",
    "\n",
    "Here is an example.\n"
   ]
  },
  {
   "cell_type": "markdown",
   "metadata": {},
   "source": [
    "#### Fibonacci calculator\n",
    "\n",
    "In mathematics, the Fibonacci numbers form a sequence, called the Fibonacci sequence, such that each number is the sum of the two preceding ones, starting from 0 and 1. It is often used to demonstrate Python concepts. Here is a version taken from the official Python Tutorial -\n",
    "\n",
    "```\n",
    ">>> def fib(n):\n",
    "...     \"\"\"Print a Fibonacci series up to n.\"\"\"\n",
    "...     a, b = 0, 1\n",
    "...     while a < n:\n",
    "...         print(a, end=' ')\n",
    "...         a, b = b, a+b\n",
    "...     print()\n",
    "...\n",
    ">>> # Now call the function we just defined:\n",
    "... fib(2000)\n",
    "0 1 1 2 3 5 8 13 21 34 55 89 144 233 377 610 987 1597\n",
    "```\n"
   ]
  },
  {
   "cell_type": "markdown",
   "metadata": {},
   "source": [
    "That example is not recursive. However, Fibonacci is often used to demonstrate a recursive function -\n",
    "\n",
    "```\n",
    ">>> def fib(n):\n",
    "...     if n <= 1:\n",
    "...         return n\n",
    "...     else:\n",
    "...         return fib(n-1) + fib(n-2)\n",
    "...\n",
    ">>>\n",
    ">>> for i in range(8):\n",
    "...     print(i, fib(i))\n",
    "...\n",
    "0 0\n",
    "1 1\n",
    "2 1\n",
    "3 2\n",
    "4 3\n",
    "5 5\n",
    "6 8\n",
    "7 13\n",
    "```\n"
   ]
  },
  {
   "cell_type": "markdown",
   "metadata": {},
   "source": [
    "The name of the function is 'fib'. You can see that in line 5, there are two calls to 'fib', once with n-1, once with n-2. It is being used to call itself.\n",
    "\n",
    "To be honest, I don't really understand how it works. I could figure it out after some study, but I have not done that yet.\n",
    "\n",
    "But here is a technique that I use sometimes when trying to understand a recursive function.\n"
   ]
  },
  {
   "cell_type": "code",
   "execution_count": 1,
   "metadata": {},
   "outputs": [
    {
     "name": "stdout",
     "output_type": "stream",
     "text": [
      " 3\n",
      " get f1 from 2\n",
      "   2\n",
      "   get f1 from 1\n",
      "     1\n",
      "     return 1\n",
      "   get f2 from 0\n",
      "     0\n",
      "     return 0\n",
      "   return 1+0 = 1\n",
      " get f2 from 1\n",
      "   1\n",
      "   return 1\n",
      " return 1+1 = 2\n"
     ]
    },
    {
     "data": {
      "text/plain": [
       "2"
      ]
     },
     "execution_count": 1,
     "metadata": {},
     "output_type": "execute_result"
    }
   ],
   "source": [
    "def fib(n, indent=0):\n",
    "    print(' '*indent, n)\n",
    "    if n <= 1:\n",
    "        print(f'{\" \"*indent} return {n}')\n",
    "        return n\n",
    "    else:\n",
    "        print(f'{\" \"*indent} get f1 from {n-1}')\n",
    "        f1 = fib(n-1, indent+2)\n",
    "        print(f'{\" \"*indent} get f2 from {n-2}')\n",
    "        f2 = fib(n-2, indent+2)\n",
    "        print(f'{\" \"*indent} return {f1}+{f2} = {f1+f2}')\n",
    "        return f1 + f2\n",
    "\n",
    "fib(3)"
   ]
  },
  {
   "cell_type": "markdown",
   "metadata": {},
   "source": [
    "I only ran it up to 3 otherwise the output would get too long.\n",
    "\n",
    "You will see that I inserted some print statements, and I also added a variable called 'indent'. Each time the function is called recursively the indent is increased by 2, so you can visualise the sequence of events.\n",
    "\n",
    "You can see the indent increasing as the number of recursive calls goes up, and then decreases as each one returns. I will leave you to experiment with this at your leisure."
   ]
  },
  {
   "cell_type": "markdown",
   "metadata": {},
   "source": [
    "#### Tree structures\n",
    "\n",
    "This is an area where I do use recursive functions.\n",
    "\n",
    "You are probably familiar with tree structures from Javascript. The DOM (Document Object Model) is constructed as a tree of objects. It starts with Document, then the 'html' root object. Then you build up the page by creating objects and inserting them into the tree by appending them to their parent. You can easily end up with hundreds of objects many levels deep.\n",
    "\n",
    "Another example is xml, which is created as a tree of objects. You don't usually have to parse the tree yourself as there are many xml libraries that do that for you. I use lxml.\n",
    "\n",
    "The example I am going to use is a company organogram. You can imagine the CEO at the top (the 'root' node), then the directors under him, then for each director the staff who report to him directly, etc.\n",
    "\n",
    "You can use recursive functions for all kinds of queries, such as 'how many people does X have under him?'.\n",
    "\n"
   ]
  },
  {
   "cell_type": "markdown",
   "metadata": {},
   "source": [
    "Here is a simple program to create a tree structure -\n",
    "\n",
    "```\n",
    "from random import randint\n",
    "\n",
    "tree = {}\n",
    "root_name = 'root'\n",
    "root = {}\n",
    "tree[root_name] = root\n",
    "\n",
    "for i in range(3):\n",
    "    child_name = chr(randint(97,122))+chr(randint(97,122))+chr(randint(97,122))\n",
    "    child = {}\n",
    "    root[child_name] = child\n",
    "\n",
    "    for j in range(3):\n",
    "        grandchild_name = chr(randint(97,122))+chr(randint(97,122))+chr(randint(97,122))\n",
    "        grandchild = {}\n",
    "        child[grandchild_name] = grandchild\n",
    "\n",
    "print(tree)\n",
    "```\n",
    "\n",
    "```\n",
    "{'root': {'wsm': {'ywn': {}, 'paz': {}, 'kwh': {}}, 'tqq': {'ano': {}, 'wiy': {}, 'ecm': {}}, 'tjb': {'sum': {}, 'yaz': {}, 'fzd': {}}}}\n",
    "```\n"
   ]
  },
  {
   "cell_type": "markdown",
   "metadata": {},
   "source": [
    "Then we create a recursive function to show the tree -\n",
    "\n",
    "```\n",
    "    def show_tree(node, node_name, indent=0):\n",
    "        for subnode_name in node[node_name]:\n",
    "            show_tree(node[node_name], subnode_name, indent+4)\n",
    "        print(f'{\" \"*indent}{node_name}')\n",
    "```\n"
   ]
  },
  {
   "cell_type": "markdown",
   "metadata": {},
   "source": [
    "Then we call the function, passing it the root node to get it started -\n",
    "\n",
    "```\n",
    "    show_tree(tree, 'root')\n",
    "\n",
    "```\n",
    "```\n",
    "        ywn\n",
    "        paz\n",
    "        kwh\n",
    "    wsm\n",
    "        ano\n",
    "        wiy\n",
    "        ecm\n",
    "    tqq\n",
    "        sum\n",
    "        yaz\n",
    "        fzd\n",
    "    tjb\n",
    "root\n",
    "```\n",
    "\n"
   ]
  },
  {
   "cell_type": "markdown",
   "metadata": {},
   "source": [
    "## Lambda functions\n",
    "\n",
    "A lambda function is a small anonymous function.\n",
    "\n",
    "A lambda function can take any number of arguments, but can only have one expression.\n",
    "\n",
    "#### Example\n",
    "\n",
    "A lambda function that adds 10 to the number passed in as an argument, and print the result:\n",
    "\n",
    "```\n",
    ">>> x = lambda a: a + 10\n",
    ">>> x(5)\n",
    "15\n",
    "```\n"
   ]
  },
  {
   "cell_type": "markdown",
   "metadata": {},
   "source": [
    "#### Why Use Lambda Functions?\n",
    "\n",
    "The power of lambda is better shown when you use them as an anonymous function inside another function.\n",
    "\n",
    "Say you have a function definition that takes one argument, and that argument will be multiplied with an unknown number:\n",
    "\n",
    "```\n",
    ">>> def myfunc(n):\n",
    "...     return lambda a: a * n\n",
    "...\n",
    ">>> mydoubler = myfunc(2)\n",
    ">>>\n",
    ">>> mydoubler(11)\n",
    "22\n",
    "```\n"
   ]
  },
  {
   "cell_type": "code",
   "execution_count": null,
   "metadata": {},
   "outputs": [],
   "source": []
  }
 ],
 "metadata": {
  "kernelspec": {
   "display_name": "Python 3",
   "language": "python",
   "name": "python3"
  },
  "language_info": {
   "codemirror_mode": {
    "name": "ipython",
    "version": 3
   },
   "file_extension": ".py",
   "mimetype": "text/x-python",
   "name": "python",
   "nbconvert_exporter": "python",
   "pygments_lexer": "ipython3",
   "version": "3.8.2"
  }
 },
 "nbformat": 4,
 "nbformat_minor": 4
}
