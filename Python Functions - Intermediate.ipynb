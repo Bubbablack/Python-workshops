{
 "cells": [
  {
   "cell_type": "markdown",
   "metadata": {},
   "source": [
    "## Python Functions\n",
    "\n",
    "A function is a self-contained block of code.\n",
    "\n",
    "It always returns a value. If no return value is specified, Python will return None.\n",
    "\n",
    "It is usually called with 'arguments', which provide input values to the function.\n",
    "\n",
    "It can be called anywhere in your code where a value is required.\n",
    "\n",
    "The basics were explained in 'Python Functions - Basics'\n",
    "\n",
    "If you have not read it, please do so before continuing.\n"
   ]
  },
  {
   "cell_type": "markdown",
   "metadata": {},
   "source": [
    "\n",
    "## The 'global' keyword\n",
    "\n",
    "This was mentioned previously but not explained, as it is not commonly used.\n",
    "\n",
    "However, there are times when it is useful.\n"
   ]
  },
  {
   "cell_type": "markdown",
   "metadata": {},
   "source": [
    "#### 'local scope' and 'global scope'\n",
    "\n",
    "As explained before, in a function, there are two scopes -\n",
    "\n",
    "1. The 'local' scope, for variables defined inside the function. These will not be visible outside the function.\n",
    "2. The 'global' scope, which means the main body of the program being executed.\n",
    "\n",
    "The rules are -\n",
    "\n",
    "1. When <b>getting</b> the value of a variable, Python first looks in the local scope. If it finds it, it will use it. If it does not find it, it will look in the global scope. If it finds it there, it will use it. Otherwise it will raise NameError.\n",
    "2. When <b>setting</b> the value of a variable, Python will always use the local scope, unless the 'global' keyword is used."
   ]
  },
  {
   "cell_type": "markdown",
   "metadata": {},
   "source": [
    "#### Example 1\n",
    "\n",
    "```\n",
    ">>> x = 20\n",
    ">>> y = 30\n",
    ">>>\n",
    ">>> def add(z):\n",
    "...     x = 50\n",
    "...     return x + z\n",
    "...\n",
    ">>> add(25)\n",
    "75\n",
    ">>>\n",
    ">>> x\n",
    "20\n",
    "```\n",
    "\n",
    "In this example, 'x' exists as both a global and a local variable.\n",
    "\n",
    "Python looked for 'x' locally, found it, and used it. It did not look in the global scope, so ignored the 'x' there.\n",
    "\n",
    "But what if you <b>wanted</b> to use the global variable 'x', and change its value?\n"
   ]
  },
  {
   "cell_type": "markdown",
   "metadata": {},
   "source": [
    "#### Example 2\n",
    "\n",
    "```\n",
    ">>> x = 20\n",
    ">>> y = 30\n",
    ">>>\n",
    ">>> def add(z):\n",
    "...     global x\n",
    "...     x = 50\n",
    "...     return x + z\n",
    "...\n",
    ">>> add(25)\n",
    "75\n",
    ">>>\n",
    ">>> x\n",
    "50\n",
    "```\n",
    "\n",
    "Here we added the line 'global x'. This tells Python to use the global value of 'x', and not treat it as a local variable.\n",
    "\n",
    "As you can see, the function ran the same as before, but on return, the global value of 'x' has been changed.\n"
   ]
  },
  {
   "cell_type": "markdown",
   "metadata": {},
   "source": [
    "#### Why?\n",
    "\n",
    "Why might you want to use this? There are many reasons, but here is one scenario that I have used on occasion.\n",
    "\n",
    "I have a module with a number of functions available for use by anyone who 'imports' the module.\n",
    "\n",
    "Most of the functions are used to 'return' various values, but one of them is used to 'change' one or more values.\n",
    "\n",
    "My solution was to place all the values at the top of the module, so that they are in the 'global' scope.\n",
    "\n",
    "The functions that 'return' the values can just return them.\n",
    "\n",
    "The function that 'changes' the values used the global keyword, so when called it changes the global values that will be returned next time one of the other functions is called.\n"
   ]
  },
  {
   "cell_type": "markdown",
   "metadata": {},
   "source": [
    "## Positional / keyword arguments\n",
    "\n",
    "I explained the difference between positional and keyword arguments earlier. I showed how it is up to the caller of the function to decide whether to use one or the other or a mixture. The main rule is that positional arguments must always appear before keyword arguments in the argument list.\n",
    "\n",
    "But what if the person who wrote the function wants to ensure that some arguments are called positionally, or that others are called using keywords.  I won't go into the reasons here, as it is unlikely that you will want to do it yourself at this stage. But it is important that you understand the syntax, as you may see it being used in functions that you want to call.\n"
   ]
  },
  {
   "cell_type": "markdown",
   "metadata": {},
   "source": [
    "#### Specify keyword arguments\n",
    "\n",
    "```\n",
    "def my_function(arg1, arg2, *, arg3, arg4):\n",
    "```\n",
    "\n",
    "The asterisk in the middle is not an argument itself. It splits the list into two parts. Any arguments before the asterisk can be called using positional or keyword arguments. Any arguments after the asterisk must be called using keywords.\n"
   ]
  },
  {
   "cell_type": "markdown",
   "metadata": {},
   "source": [
    "#### Specify positional arguments\n",
    "\n",
    "```\n",
    "def my_function(arg1, arg2, /, arg3, arg4):\n",
    "```\n",
    "\n",
    "Here, the forward slash means that any arguments to the left must be called as positional arguments. Any to the right can be called using either method.\n",
    "\n",
    "This feature was added in Python 3.8.\n"
   ]
  },
  {
   "cell_type": "markdown",
   "metadata": {},
   "source": [
    "#### Combining the rules\n",
    "\n",
    "```\n",
    "def my_function(arg1, arg2, /, arg3, arg4, *, arg5, arg6):\n",
    "```\n",
    "\n",
    "As you would expects, arg1/2 must be positional, arg3/4 can be either, arg5/6 must be keyword.\n"
   ]
  },
  {
   "cell_type": "markdown",
   "metadata": {},
   "source": [
    "## Nested functions\n",
    "\n"
   ]
  },
  {
   "cell_type": "code",
   "execution_count": null,
   "metadata": {},
   "outputs": [],
   "source": []
  }
 ],
 "metadata": {
  "kernelspec": {
   "display_name": "Python 3",
   "language": "python",
   "name": "python3"
  },
  "language_info": {
   "codemirror_mode": {
    "name": "ipython",
    "version": 3
   },
   "file_extension": ".py",
   "mimetype": "text/x-python",
   "name": "python",
   "nbconvert_exporter": "python",
   "pygments_lexer": "ipython3",
   "version": "3.8.2"
  }
 },
 "nbformat": 4,
 "nbformat_minor": 4
}
