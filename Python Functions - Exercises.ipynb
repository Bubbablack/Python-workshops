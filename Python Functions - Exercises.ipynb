{
 "cells": [
  {
   "cell_type": "markdown",
   "metadata": {},
   "source": [
    "## Python Functions - Exercises\n",
    "\n",
    "Here are some exercises to practice what we have learned in the Python Functions workshops.\n",
    "\n",
    "Have a go at writing the functions as specified, and we will discuss various solutions at the next workshop.\n",
    "\n"
   ]
  },
  {
   "cell_type": "markdown",
   "metadata": {},
   "source": [
    "#### Exercise 1\n",
    "\n",
    "Write a function that accepts two numbers as inputs, calculates the result of adding them and the result of subtracting them, and return both results.\n",
    "\n",
    "add_sub(53, 27)\n",
    "\n",
    "expected result:\n",
    "80, 26\n"
   ]
  },
  {
   "cell_type": "markdown",
   "metadata": {},
   "source": [
    "#### Exercise 2\n",
    "\n",
    "Write a function that accepts a list of numbers, and returns the highest number, <b>without</b> using the built-in max() function.\n",
    "\n",
    "get_max([23, 49, 25, 73, 42])\n",
    "\n",
    "expected result:\n",
    "73\n"
   ]
  },
  {
   "cell_type": "markdown",
   "metadata": {},
   "source": [
    "#### Exercise 3\n",
    "\n",
    "From the 'math' module, import 'pi'.\n",
    "\n",
    "Write a function that calculates the area of a circle. Use pi as a global variable, and the radius as an input argument.\n",
    "\n",
    "calc_area(5)\n",
    "\n",
    "expected result:\n",
    "78.53981633974483\n"
   ]
  },
  {
   "cell_type": "markdown",
   "metadata": {},
   "source": [
    "#### Exercise 4\n",
    "\n",
    "Write a function that accepts a list of numbers, aand prints the number of odd numbers and the number of even numbers.\n",
    "\n",
    "count_numbers([23, 34, 45, 56, 67, 78, 39])\n",
    "\n",
    "expected result: Odd: 4, Even: 3\n"
   ]
  },
  {
   "cell_type": "markdown",
   "metadata": {},
   "source": [
    "#### Exercise 5\n",
    "\n",
    "Write a function that accepts 2 numbers, and returns the first number raised to the power of the second number. Use a default value of 2 for the power.\n",
    "\n",
    "calc_power(25, 3)\n",
    "\n",
    "expected result: 15625\n",
    "\n",
    "calc_power(27)\n",
    "\n",
    "expected result: 729\n"
   ]
  },
  {
   "cell_type": "markdown",
   "metadata": {},
   "source": [
    "#### Exercise 6\n",
    "\n",
    "Write a function and accepts a string, checks if the string is a palindrome (reads the same forwards and backwards), and returns the result.\n",
    "\n",
    "check_palindrome('radar')\n",
    "\n",
    "expected result: True\n",
    "\n",
    "check_palindrome('sonar')\n",
    "\n",
    "expected result: False\n"
   ]
  },
  {
   "cell_type": "markdown",
   "metadata": {},
   "source": [
    "#### Exercise 7\n",
    "\n",
    "Same as Exercise 6, but cater for upper and lower case, spaces, punctuation marks.\n",
    "\n",
    "Did you know that the first sentence ever spoken on earth was a palindrome?\n",
    "\n",
    "check_palindrome(\"Madam, I'm Adam\")\n",
    "\n",
    "expected result: True\n"
   ]
  },
  {
   "cell_type": "markdown",
   "metadata": {},
   "source": [
    "#### Exercise 8\n",
    "\n",
    "Write a function that accepts a number that represents an exam mark.\n",
    "\n",
    "The number must be between 0 and 100. If it is not, print('Invalid mark')\n",
    "\n",
    "If the mark is < 50, print('Fail')\n",
    "\n",
    "If the result is >= 50, print a row of asterisks, one for each 5 points above the pass mark. 50-54 gets one, 55-59 gets 2, etc.\n",
    "\n",
    "If the number of asterisks exceeds 6, print 'Distinction!'.\n"
   ]
  },
  {
   "cell_type": "markdown",
   "metadata": {},
   "source": [
    "#### Exercise 9\n",
    "\n",
    "Write a function that accepts a hyphen-separated string of words. Return a new hyphen-separated string with the words sorted in reverse alphabetical order.\n",
    "\n",
    "rev_sort('apples-pears-oranges-bananas')\n",
    "\n",
    "Expected result: 'pears-oranges-bananas-apples'\n",
    "\n"
   ]
  },
  {
   "cell_type": "markdown",
   "metadata": {},
   "source": [
    "#### Exercise 10\n",
    "\n",
    "Take the following function, and refactor it by moving repeated code into a nested function.\n",
    "\n",
    "```\n",
    "def calc_vat(inv_amount, tax_cat, tax_incl):\n",
    "    \"\"\"Calculate the vat amount using invoice amount, tax category and tax inclusive.\n",
    "    \n",
    "    inv_amount: the amount to calculate the tax on\n",
    "    \n",
    "    tax_cat: if 'std', the rate is 15%; if 'lux', the rate is 25%\n",
    "    \n",
    "    tax_incl:\n",
    "        if True, the inv_amount includes tax, and the calculation is inv_amount * tax_rate / (100 + tax_rate)\n",
    "        if False, the inv_amount excludes tax, and the calculation is inv_amount * tax_rate / 100\n",
    "    \"\"\"\n",
    "\n",
    "    if tax_cat == 'std':\n",
    "        if tax_incl:\n",
    "            tax_amount = inv_amount * 15 / (100 * tax_rate)\n",
    "        else:\n",
    "            tax_amount = inv_amount * 15 / 100\n",
    "     elif tax_cat == 'lux':\n",
    "        if tax_incl:\n",
    "            tax_amount = inv_amount * 25 / (100 * tax_rate)\n",
    "        else:\n",
    "            tax_amount = inv_amount * 25 / 100\n",
    "     return tax_amount\n",
    "```\n",
    "    "
   ]
  },
  {
   "cell_type": "code",
   "execution_count": null,
   "metadata": {},
   "outputs": [],
   "source": []
  }
 ],
 "metadata": {
  "kernelspec": {
   "display_name": "Python 3",
   "language": "python",
   "name": "python3"
  },
  "language_info": {
   "codemirror_mode": {
    "name": "ipython",
    "version": 3
   },
   "file_extension": ".py",
   "mimetype": "text/x-python",
   "name": "python",
   "nbconvert_exporter": "python",
   "pygments_lexer": "ipython3",
   "version": "3.8.2"
  }
 },
 "nbformat": 4,
 "nbformat_minor": 4
}
