{
 "cells": [
  {
   "cell_type": "markdown",
   "metadata": {},
   "source": [
    "## Databases & Python\n",
    "\n",
    "This is not a tutorial on databases or SQL. If you need that, there are many good tutorials out there on the internet, such as https://www.w3schools.com/sql\n",
    "\n",
    "This is about how to inter-operate with a database using Python.\n",
    "\n",
    "Why might to want to do this? Here are a few examples -\n",
    "\n",
    "- design a web page that accesses the database to display product information\n",
    "- use a gui to allow users to access the company database on an intranet\n",
    "- analyse data by retrieving data from a database\n"
   ]
  },
  {
   "cell_type": "markdown",
   "metadata": {},
   "source": [
    "#### SQL vs NonSQL databases\n",
    "\n",
    "Most people think of Relational Databases (RDBMS) when talking of databases. Examples are -\n",
    "- PostgreSQL\n",
    "- Oracle\n",
    "- MS Sql Server\n",
    "- sqlite3\n",
    "- MySQL\n",
    "\n",
    "In recent years an alternative form of storing data has emerged, called NoSQL databases. A few are -\n",
    "- MongoDB\n",
    "- CouchDB\n",
    "- Redis"
   ]
  },
  {
   "cell_type": "markdown",
   "metadata": {},
   "source": [
    "Here is a brief overview of the differences -\n",
    "\n",
    "###### RDBMS\n",
    "- uses a predefined schema\n",
    "- stores data in tables, rows, and columns\n",
    "- structure must be set up before it can be used to store data\n",
    "- difficult to modify schema once it contains any data\n",
    "- uses a standard query language - SQL\n",
    "\n",
    "###### NoSQL\n",
    "- uses dynamic schema for unstructured data\n",
    "- data can be stored as documents, key-value pairs, graph structures, and more \n",
    "- you can store data without having to define its structure\n",
    "- each document can have its own unique structure\n",
    "- each product has its own method for querying the data - no standards\n",
    "\n",
    "NoSQL databases have become popular, and definitely have their place. However, this workshop will focus on RDBMS databases."
   ]
  },
  {
   "cell_type": "markdown",
   "metadata": {},
   "source": [
    "#### DB-API 2.0\n",
    "\n",
    "Each RDBMS supplier publishes an API allowing it to be accessed programatically. In the early days of Python, different projects were started by different people to write a Python adaptor for each database. They worked, but as they were all different it was difficult to change from one RDBMS supplier to another.\n",
    "\n",
    "Therefore it was agreed to produce a specification to provide consistency between the various adaptors. The first version, DB-API 1.0, was published in 1996. The second version, DB-API 2.0, was published in 1999. There have been attempts to come up with a revised version since then, but for various reasons they have not been successful. Therefore DB-API 2.0 is the standard on which all current database adaptors are based. The full specification can be read here - https://www.python.org/dev/peps/pep-0249/\n",
    "\n",
    "Here is a selection of database adaptors -\n",
    "\n",
    "- PostreSQL - psycopg2\n",
    "- Sql Server - pyodbc\n",
    "- sqlite3 - the built-in 'sqlite3' module"
   ]
  },
  {
   "cell_type": "markdown",
   "metadata": {},
   "source": [
    "#### Connection object\n",
    "\n",
    "All adaptors support the creation of a Connector object, using a method called connect().\n",
    "\n",
    "```\n",
    "import psycopg2\n",
    "conn = psycopg2.connect(<connection string>)\n",
    "```\n",
    "\n",
    "The connection string will vary according the database installation.\n",
    "\n",
    "Connection objects support the following methods -\n",
    "\n",
    "- .cursor() returns a Cursor object (see next)\n",
    "\n",
    "- .commit() commits the current transaction (see Transactions)\n",
    "\n",
    "- .rollback() rolls back the current transaction (see Transactions)\n",
    "\n",
    "- .close() closes the connection\n"
   ]
  },
  {
   "cell_type": "markdown",
   "metadata": {},
   "source": [
    "#### Cursor object\n",
    "\n",
    "All adaptors support the creation of a Cursor object.\n",
    "\n",
    "```\n",
    "cur = conn.cursor()\n",
    "```\n",
    "\n",
    "A cursor object is the means by which we issue SQL statements to the database and get the results.\n",
    "\n",
    "Cursor objects support the following methods -\n",
    "\n",
    "- .execute(statement, parameters)\n",
    "      prepare and execute a SQL statement (query or command)\n",
    "      parameters can be supplied as a tuple or a dictionary (see Parameters)\n",
    "- .executemany(statement, sequence of parameters)\n",
    "      prepare a SQL statement (query or command) and execute it against each parameter in the sequence\n",
    "- .fetchone()\n",
    "      fetch the next row of a result set, or None if no rows available\n",
    "- .fetchmany(size=cursor.arraysize)\n",
    "      fetch the next set of rows from the result set, up to a maximum of 'size'\n",
    "      the set is returned as a list of tuples, or an empty list if no rows available\n",
    "      size defaults to cursor.arraysize, which can set set as a cursor attribute\n",
    "- .fetchall()\n",
    "      fetch all remaining rows from the result set\n",
    "      the set is returned as a list of tuples, or an empty list if no rows available\n",
    "\n",
    "Although not specified in DB-API 2.0, most adaptors allow a cursor to return its results in the form of an iterator -\n",
    "\n",
    "```\n",
    "cur = conn.cursor()\n",
    "cur.execute(<statement>)\n",
    "for row in cur:\n",
    "    [each row is returned as a tuple]\n",
    "```\n"
   ]
  },
  {
   "cell_type": "markdown",
   "metadata": {},
   "source": [
    "#### Parameters\n",
    "\n",
    "You may want to execute a query that looks like this -\n",
    "\n",
    "```\n",
    "cur.execute(f\"SELECT * FROM customers WHERE customer_name = '{customer_name}'\")\n",
    "```\n",
    "\n",
    "It is strongly recommended that the query is changed to this -\n",
    "\n",
    "```\n",
    "cur.execute(\"SELECT * FROM customers WHERE customer_name = ?\", (customer_name, ))\n",
    "```\n",
    "\n",
    "This is known as a parameterised query. The value for customer_name is replaced by a placeholder, and the value is supplied in the form of a tuple. You can have many values and many placeholders, provided that the tuple contains as many values as there are placeholders.\n",
    "\n",
    "This is recommended for various reasons -\n",
    "\n",
    "- if the same query is executed more than once with different customer names, the parameterised version allows the database engine to optimise the query.\n",
    "- if the value for customer_name comes from an untrusted source (e.g. a web site) the un-parameterised version is vulnerable to SQL injection if the source is malicious. The parameterised version is immune to SQL injection.\n",
    "- if the value is in the form of a Python object such as a datetime.date or a Decimal.decimal, the adaptor will handle converting it into the appropriate form without you having to worry about it.\n",
    "\n",
    "A complication is that different database adaptors use different placeholders. sqlite3 and pyodbc use '?', psycopg2 uses '%s'.\n"
   ]
  },
  {
   "cell_type": "markdown",
   "metadata": {},
   "source": [
    "#### ORMs\n"
   ]
  },
  {
   "cell_type": "markdown",
   "metadata": {},
   "source": [
    "#### Transactions\n"
   ]
  },
  {
   "cell_type": "code",
   "execution_count": null,
   "metadata": {},
   "outputs": [],
   "source": []
  }
 ],
 "metadata": {
  "kernelspec": {
   "display_name": "Python 3",
   "language": "python",
   "name": "python3"
  },
  "language_info": {
   "codemirror_mode": {
    "name": "ipython",
    "version": 3
   },
   "file_extension": ".py",
   "mimetype": "text/x-python",
   "name": "python",
   "nbconvert_exporter": "python",
   "pygments_lexer": "ipython3",
   "version": "3.8.2"
  }
 },
 "nbformat": 4,
 "nbformat_minor": 4
}
