{
 "cells": [
  {
   "cell_type": "markdown",
   "metadata": {},
   "source": [
    "## Comprehensions\n",
    "\n",
    "Python provides syntax for list comprehensions, dictionary comprehensions, and set comprehensions.\n",
    "\n",
    "List comprehensions are by far the most common, so let's start with those.\n"
   ]
  },
  {
   "cell_type": "markdown",
   "metadata": {},
   "source": [
    "#### List comprehensions\n",
    "\n",
    "A list comprehension is a concise way to create a list.\n",
    "\n",
    "Before their introduction, the most common way to create a list was to use a 'for loop'.\n",
    "\n",
    "```\n",
    ">>> my_list = []\n",
    ">>> for i in range(10):\n",
    "...     my_list.append(i)\n",
    "...\n",
    ">>> my_list\n",
    "[0, 1, 2, 3, 4, 5, 6, 7, 8, 9]\n",
    "```"
   ]
  },
  {
   "cell_type": "markdown",
   "metadata": {},
   "source": [
    "The syntax for a list comprehension is\n",
    "\n",
    "```\n",
    "my_list = [expression for member in iterable]\n",
    "```\n",
    "\n",
    "So the above example can be written as -\n",
    "\n",
    "```\n",
    ">>> my_list = [_ for _ in range(10)]  # '_' is often used as a 'throw-away' variable\n",
    ">>> my_list\n",
    "[0, 1, 2, 3, 4, 5, 6, 7, 8, 9]\n",
    "```"
   ]
  },
  {
   "cell_type": "markdown",
   "metadata": {},
   "source": [
    "In this example, 'expression' is the member itself. However, you can use any valid Python expression.\n",
    "\n",
    "```\n",
    ">>> my_list = [_**2 for _ in range(10)]\n",
    ">>> my_list\n",
    "[0, 1, 4, 9, 16, 25, 36, 49, 64, 81]\n",
    "```\n",
    "\n",
    "```\n",
    ">>> my_list = [str(_)*2 for _ in range(10)]\n",
    ">>> my_list\n",
    "['00', '11', '22', '33', '44', '55', '66', '77', '88', '99']\n",
    "```"
   ]
  },
  {
   "cell_type": "markdown",
   "metadata": {},
   "source": [
    "You can add a condition to a list comprehension.\n",
    "\n",
    "```\n",
    ">>> my_list = [_ for _ in range(20) if not _%3]\n",
    ">>> my_list\n",
    "[0, 3, 6, 9, 12, 15, 18]\n",
    "```\n",
    "\n",
    "```\n",
    ">>> my_list = [_ for _ in range(100) if not _%2 and not _%5]\n",
    ">>> my_list\n",
    "[0, 10, 20, 30, 40, 50, 60, 70, 80, 90]\n",
    "```\n"
   ]
  },
  {
   "cell_type": "markdown",
   "metadata": {},
   "source": [
    "You can also have 'nested' list comprehensions. A typical use is to 'flatten' a 2-dimensional list.\n",
    "\n",
    "If you need this, it can help to code it in 'for-loop' form first.\n",
    "\n",
    "```\n",
    ">>> matrix = [(12, 20, 34), (45, 65, 43), (26, 25, 62)]\n",
    "\n",
    ">>> new_list = []\n",
    ">>> for row in matrix:\n",
    "...   for element in row:\n",
    "...     new_list.append(element)\n",
    "...\n",
    ">>> new_list\n",
    "[12, 20, 34, 45, 65, 43, 26, 25, 62]\n",
    "```"
   ]
  },
  {
   "cell_type": "markdown",
   "metadata": {},
   "source": [
    "This is how you would do it using a list comprehension.\n",
    "\n",
    "```\n",
    ">>> new_list = [element for row in matrix for element in row]\n",
    ">>> new_list\n",
    "[12, 20, 34, 45, 65, 43, 26, 25, 62]```\n",
    "\n",
    "The important point is to nest it in exactly the same sequence as in the 'for_loop' form."
   ]
  },
  {
   "cell_type": "code",
   "execution_count": null,
   "metadata": {},
   "outputs": [],
   "source": []
  }
 ],
 "metadata": {
  "kernelspec": {
   "display_name": "Python 3",
   "language": "python",
   "name": "python3"
  },
  "language_info": {
   "codemirror_mode": {
    "name": "ipython",
    "version": 3
   },
   "file_extension": ".py",
   "mimetype": "text/x-python",
   "name": "python",
   "nbconvert_exporter": "python",
   "pygments_lexer": "ipython3",
   "version": "3.8.2"
  }
 },
 "nbformat": 4,
 "nbformat_minor": 4
}
