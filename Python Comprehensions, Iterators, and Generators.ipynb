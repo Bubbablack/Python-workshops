{
 "cells": [
  {
   "cell_type": "markdown",
   "metadata": {},
   "source": [
    "## Comprehensions\n",
    "\n",
    "Python provides syntax for list comprehensions, dictionary comprehensions, and set comprehensions.\n",
    "\n",
    "List comprehensions are by far the most common, so let's start with those.\n"
   ]
  },
  {
   "cell_type": "markdown",
   "metadata": {},
   "source": [
    "#### List comprehensions\n",
    "\n",
    "A list comprehension is a concise way to create a list.\n",
    "\n",
    "Before their introduction, the most common way to create a list was to use a 'for loop'.\n",
    "\n",
    "```\n",
    ">>> my_list = []\n",
    ">>> for i in range(10):\n",
    "...     my_list.append(i)\n",
    "...\n",
    ">>> my_list\n",
    "[0, 1, 2, 3, 4, 5, 6, 7, 8, 9]\n",
    "```"
   ]
  },
  {
   "cell_type": "markdown",
   "metadata": {},
   "source": [
    "The syntax for a list comprehension is\n",
    "\n",
    "```\n",
    "my_list = [expression for member in iterable]\n",
    "```\n",
    "\n",
    "So the above example can be written as -\n",
    "\n",
    "```\n",
    ">>> my_list = [_ for _ in range(10)]  # '_' is often used as a 'throw-away' variable\n",
    ">>> my_list\n",
    "[0, 1, 2, 3, 4, 5, 6, 7, 8, 9]\n",
    "```"
   ]
  },
  {
   "cell_type": "markdown",
   "metadata": {},
   "source": [
    "In this example, 'expression' is the member itself. However, you can use any valid Python expression.\n",
    "\n",
    "```\n",
    ">>> my_list = [_**2 for _ in range(10)]\n",
    ">>> my_list\n",
    "[0, 1, 4, 9, 16, 25, 36, 49, 64, 81]\n",
    "```\n",
    "\n",
    "```\n",
    ">>> my_list = [str(_)*2 for _ in range(10)]\n",
    ">>> my_list\n",
    "['00', '11', '22', '33', '44', '55', '66', '77', '88', '99']\n",
    "```"
   ]
  },
  {
   "cell_type": "markdown",
   "metadata": {},
   "source": [
    "You can add a condition to a list comprehension.\n",
    "\n",
    "```\n",
    ">>> my_list = [_ for _ in range(20) if not _%3]\n",
    ">>> my_list\n",
    "[0, 3, 6, 9, 12, 15, 18]\n",
    "```\n",
    "\n",
    "```\n",
    ">>> my_list = [_ for _ in range(100) if not _%2 and not _%5]\n",
    ">>> my_list\n",
    "[0, 10, 20, 30, 40, 50, 60, 70, 80, 90]\n",
    "```\n"
   ]
  },
  {
   "cell_type": "markdown",
   "metadata": {},
   "source": [
    "You can also have 'nested' list comprehensions. A typical use is to 'flatten' a 2-dimensional list.\n",
    "\n",
    "If you need this, it can help to code it in 'for-loop' form first.\n",
    "\n",
    "```\n",
    ">>> matrix = [(12, 20, 34), (45, 65, 43), (26, 25, 62)]\n",
    "\n",
    ">>> new_list = []\n",
    ">>> for row in matrix:\n",
    "...   for element in row:\n",
    "...     new_list.append(element)\n",
    "...\n",
    ">>> new_list\n",
    "[12, 20, 34, 45, 65, 43, 26, 25, 62]\n",
    "```"
   ]
  },
  {
   "cell_type": "markdown",
   "metadata": {},
   "source": [
    "This is how you would do it using a list comprehension.\n",
    "\n",
    "```\n",
    ">>> new_list = [element for row in matrix for element in row]\n",
    ">>> new_list\n",
    "[12, 20, 34, 45, 65, 43, 26, 25, 62]```\n",
    "\n",
    "The important point is to nest it in exactly the same sequence as in the 'for_loop' form."
   ]
  },
  {
   "cell_type": "markdown",
   "metadata": {},
   "source": [
    "#### Dictionary comprehensions\n",
    "\n",
    "These are not used as often as list comprehensions, but can be very useful in the right circumstances.\n",
    "\n",
    "The syntax for a dictionary comprehension is\n",
    "\n",
    "```\n",
    "my_dict = {key: value for element in iterable (if condition)}\n",
    "```\n",
    "\n",
    "Assume you want to create a dictionary from the numbers 1-10, if the number is even, where the key is the number and the value is the number squared.\n",
    "\n",
    "```\n",
    ">>> my_dict = {n: n**2 for n in range(1, 11) if not n%2}\n",
    ">>> my_dict\n",
    "{2: 4, 4: 16, 6: 36, 8: 64, 10: 100}\n",
    "```\n"
   ]
  },
  {
   "cell_type": "markdown",
   "metadata": {},
   "source": [
    "As a practical example, assume you are reading a csv file, where the first row contains column headings and the following rows contain the data.\n",
    "\n",
    "```\n",
    "col_head = ['acno', 'name', 'town']\n",
    "\n",
    "rows  = []\n",
    "rows.append(['A001', 'ABC Ltd', 'Jhb'])\n",
    "rows.append(['B001', 'BCD Ltd', 'Pta'])\n",
    "rows.append(['C001', 'CDE Ltd', 'Dbn'])\n",
    "```\n",
    "\n",
    "Now assume you want to process each row as a dictionary.\n",
    "\n",
    "```\n",
    ">>> for row in rows:\n",
    "...     {k: v for k, v in zip(col_head, row)}\n",
    "...\n",
    "{'acno': 'A001', 'name': 'ABC Ltd', 'town': 'Jhb'}\n",
    "{'acno': 'B001', 'name': 'BCD Ltd', 'town': 'Pta'}\n",
    "{'acno': 'C001', 'name': 'CDE Ltd', 'town': 'Dbn'}\n",
    "```\n"
   ]
  },
  {
   "cell_type": "markdown",
   "metadata": {},
   "source": [
    "Here is another example using pandas. Thanks to Andy for asking about this one.\n",
    "\n",
    "Let's say you have a dataframe with a number of columns, and you want to calculate and store the mean and standard deviation for each column according to the column name.\n",
    "\n",
    "```\n",
    "col_means = {col_name: df[col_name].mean() for col_name in df.columns}\n",
    "col_stds = {col_name: statistics.stdev(df[col_name]) for col_name in df.columns}\n",
    "```\n"
   ]
  },
  {
   "cell_type": "markdown",
   "metadata": {},
   "source": [
    "#### Set comprehensions\n",
    "\n"
   ]
  },
  {
   "cell_type": "markdown",
   "metadata": {},
   "source": [
    "A set is similar to a list, with the feature that it will not store duplicate values. If you try to add a value that already exists, it will be ignored. Instead of square brackets, it is enclosed in curly brackets.\n",
    "\n",
    "The syntax for a set comprehension is\n",
    "\n",
    "```\n",
    "my_set = {expression for member in iterable}\n",
    "```\n"
   ]
  },
  {
   "cell_type": "markdown",
   "metadata": {},
   "source": [
    "Here is a simplified example of a real-world case. Assume a list of 2-part tuples, where the first elememt represents a group code. We want to know how many group codes there are.\n",
    "\n",
    "```\n",
    ">>> values = [(1, 23), (1, 35), (1, 13), (2, 33), (2, 23), (2, 45), (3, 76), (3, 54), (3, 24)]\n",
    ">>> {group for group, _ in values}\n",
    "{1, 2, 3}\n",
    "```\n"
   ]
  },
  {
   "cell_type": "markdown",
   "metadata": {},
   "source": [
    "## Iterators"
   ]
  },
  {
   "cell_type": "code",
   "execution_count": null,
   "metadata": {},
   "outputs": [],
   "source": []
  }
 ],
 "metadata": {
  "kernelspec": {
   "display_name": "Python 3",
   "language": "python",
   "name": "python3"
  },
  "language_info": {
   "codemirror_mode": {
    "name": "ipython",
    "version": 3
   },
   "file_extension": ".py",
   "mimetype": "text/x-python",
   "name": "python",
   "nbconvert_exporter": "python",
   "pygments_lexer": "ipython3",
   "version": "3.8.2"
  }
 },
 "nbformat": 4,
 "nbformat_minor": 4
}
