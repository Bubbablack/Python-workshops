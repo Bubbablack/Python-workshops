{
 "cells": [
  {
   "cell_type": "markdown",
   "metadata": {},
   "source": [
    "## Comprehensions\n",
    "\n",
    "Python provides syntax for list comprehensions, dictionary comprehensions, and set comprehensions.\n",
    "\n",
    "List comprehensions are by far the most common, so let's start with those.\n"
   ]
  },
  {
   "cell_type": "markdown",
   "metadata": {},
   "source": [
    "#### List comprehensions\n",
    "\n",
    "A list comprehension is a concise way to create a list.\n",
    "\n",
    "Before their introduction, the most common way to create a list was to use a 'for-loop'.\n",
    "\n",
    "```\n",
    ">>> my_list = []\n",
    ">>> for _ in range(10):  # '_' is often used as a 'throw-away' variable\n",
    "...     my_list.append(_)\n",
    "...\n",
    ">>> my_list\n",
    "[0, 1, 2, 3, 4, 5, 6, 7, 8, 9]\n",
    "```"
   ]
  },
  {
   "cell_type": "markdown",
   "metadata": {},
   "source": [
    "The syntax for a list comprehension is\n",
    "\n",
    "```\n",
    "my_list = [expression for member in iterable (if condition)]\n",
    "```\n",
    "\n",
    "So the above example can be written as -\n",
    "\n",
    "```\n",
    ">>> my_list = [_ for _ in range(10)]\n",
    ">>> my_list\n",
    "[0, 1, 2, 3, 4, 5, 6, 7, 8, 9]\n",
    "```"
   ]
  },
  {
   "cell_type": "markdown",
   "metadata": {},
   "source": [
    "In this example, 'expression' is the member itself. However, you can use any valid Python expression.\n",
    "\n",
    "```\n",
    ">>> my_list = [_**2 for _ in range(10)]\n",
    ">>> my_list\n",
    "[0, 1, 4, 9, 16, 25, 36, 49, 64, 81]\n",
    "```\n",
    "\n",
    "```\n",
    ">>> my_list = [str(_)*2 for _ in range(10)]\n",
    ">>> my_list\n",
    "['00', '11', '22', '33', '44', '55', '66', '77', '88', '99']\n",
    "```"
   ]
  },
  {
   "cell_type": "markdown",
   "metadata": {},
   "source": [
    "You can add a condition to a list comprehension.\n",
    "\n",
    "```\n",
    ">>> my_list = [_ for _ in range(20) if not _%3]\n",
    ">>> my_list\n",
    "[0, 3, 6, 9, 12, 15, 18]\n",
    "```\n",
    "\n",
    "```\n",
    ">>> my_list = [_ for _ in range(100) if not _%2 and not _%5]\n",
    ">>> my_list\n",
    "[0, 10, 20, 30, 40, 50, 60, 70, 80, 90]\n",
    "```\n"
   ]
  },
  {
   "cell_type": "markdown",
   "metadata": {},
   "source": [
    "You can have 'nested' list comprehensions. A typical use is to 'flatten' a 2-dimensional list.\n",
    "\n",
    "If you need this, it can help to code it in 'for-loop' form first.\n",
    "\n",
    "```\n",
    ">>> matrix = [(12, 20, 34), (45, 65, 43), (26, 25, 62)]\n",
    "\n",
    ">>> new_list = []\n",
    ">>> for row in matrix:\n",
    "...   for element in row:\n",
    "...     new_list.append(element)\n",
    "...\n",
    ">>> new_list\n",
    "[12, 20, 34, 45, 65, 43, 26, 25, 62]\n",
    "```"
   ]
  },
  {
   "cell_type": "markdown",
   "metadata": {},
   "source": [
    "This is how you would do it using a list comprehension.\n",
    "\n",
    "```\n",
    ">>> new_list = [element for row in matrix for element in row]\n",
    ">>> new_list\n",
    "[12, 20, 34, 45, 65, 43, 26, 25, 62]```\n",
    "\n",
    "The important point is to nest it in exactly the same sequence as in the 'for_loop' form."
   ]
  },
  {
   "cell_type": "markdown",
   "metadata": {},
   "source": [
    "#### Dictionary comprehensions\n",
    "\n",
    "These are not used as often as list comprehensions, but can be very useful in the right circumstances.\n",
    "\n",
    "The syntax for a dictionary comprehension is\n",
    "\n",
    "```\n",
    "my_dict = {key: value for element in iterable (if condition)}\n",
    "```\n",
    "\n",
    "Assume you want to create a dictionary from the numbers 1-10, if the number is even, where the key is the number and the value is the number squared.\n",
    "\n",
    "```\n",
    ">>> my_dict = {n: n**2 for n in range(1, 11) if not n%2}\n",
    ">>> my_dict\n",
    "{2: 4, 4: 16, 6: 36, 8: 64, 10: 100}\n",
    "```\n"
   ]
  },
  {
   "cell_type": "markdown",
   "metadata": {},
   "source": [
    "As a practical example, assume you are reading a csv file, where the first row contains column headings and the following rows contain the data.\n",
    "\n",
    "```\n",
    "col_head = ['acno', 'name', 'town']\n",
    "\n",
    "rows  = []\n",
    "rows.append(['A001', 'ABC Ltd', 'Jhb'])\n",
    "rows.append(['B001', 'BCD Ltd', 'Pta'])\n",
    "rows.append(['C001', 'CDE Ltd', 'Dbn'])\n",
    "```\n",
    "\n",
    "Now assume you want to process each row as a dictionary.\n",
    "\n",
    "```\n",
    ">>> for row in rows:\n",
    "...     {k: v for k, v in zip(col_head, row)}\n",
    "...\n",
    "{'acno': 'A001', 'name': 'ABC Ltd', 'town': 'Jhb'}\n",
    "{'acno': 'B001', 'name': 'BCD Ltd', 'town': 'Pta'}\n",
    "{'acno': 'C001', 'name': 'CDE Ltd', 'town': 'Dbn'}\n",
    "```\n"
   ]
  },
  {
   "cell_type": "markdown",
   "metadata": {},
   "source": [
    "Here is another example using pandas. This arose from a question on RocketChat.\n",
    "\n",
    "Let's say you have a dataframe with a number of columns, and you want to calculate and store the mean and standard deviation for each column according to the column name.\n",
    "\n",
    "```\n",
    "col_means = {col_name: df[col_name].mean() for col_name in df.columns}\n",
    "col_stds = {col_name: statistics.stdev(df[col_name]) for col_name in df.columns}\n",
    "```\n"
   ]
  },
  {
   "cell_type": "markdown",
   "metadata": {},
   "source": [
    "#### Set comprehensions\n",
    "\n",
    "A set is similar to a list, with the added feature that it will not store duplicate values. If you try to add a value that already exists, it will be ignored. Instead of square brackets, it is enclosed in braces (curly brackets).\n",
    "\n",
    "The syntax for a set comprehension is\n",
    "\n",
    "```\n",
    "my_set = {expression for member in iterable (if condition)}\n",
    "```\n"
   ]
  },
  {
   "cell_type": "markdown",
   "metadata": {},
   "source": [
    "Here is a simplified example of a real-world use-case. Assume a list of 2-part tuples, where the first element represents a group code. We want to know how many group codes there are.\n",
    "\n",
    "```\n",
    ">>> values = [(1, 23), (1, 35), (1, 13), (2, 33), (2, 23), (2, 45), (3, 76), (3, 54), (3, 24)]\n",
    ">>> {group for group, _ in values}\n",
    "{1, 2, 3}\n",
    "```\n"
   ]
  },
  {
   "cell_type": "markdown",
   "metadata": {},
   "source": [
    "## Iterators\n",
    "\n",
    "You may have heard the terms 'iterator' and 'iterable'. What do they mean, and what is the difference?\n",
    "\n",
    "In simple terms, an 'iterable' is something that can be iterated (or 'looped') over. It is a 'container' for a number of objects that allows a caller to access the objects one at a time.\n",
    "\n",
    "If you loop over a list, a tuple, or a set, it returns the elements. If you loop over a dictionary, it returns the keys. If you loop over a string, it returns the characters in the string. They are all 'iterable'.\n",
    "\n",
    "An 'iterator' is what is used to actually return the objects. When you iterate over a container, Python internally calls the \\_\\_iter\\_\\_() method of the object, which returns an iterator.\n",
    "\n",
    "An iterator must have a method called \\_\\_next\\_\\_(). The first time it is called it returns the first object in the container. It keeps track of the last one returned, so on each subsequent call it returns the next object. Once the last object has been returned, the next time you call \\_\\_next\\_\\_() it will raise StopIteration."
   ]
  },
  {
   "cell_type": "markdown",
   "metadata": {},
   "source": [
    "You rarely have to call \\_\\_next\\_\\_() in your own code. If you iterate over the object using a 'for-loop' or a list comprehension, Python handles calling \\_\\_iter\\_\\_() and \\_\\_next\\_\\_(), and catching StopIteration, without you having to worry about the details.\n",
    "\n",
    "If you do need to manage it yourself, Python has two built-in functions to make it easier.\n",
    "\n",
    "iter(object) returns an iterator for the object.\n",
    "\n",
    "next(iterator) requests the iterator to return the next item.\n",
    "\n",
    "```\n",
    ">>> my_list = ['A001', 'B001', 'C001']\n",
    ">>> my_iter = iter(my_list)\n",
    ">>> next(my_iter)\n",
    "'A001'\n",
    ">>> next(my_iter)\n",
    "'B001'\n",
    ">>> next(my_iter)\n",
    "'C001'\n",
    ">>> next(my_iter)\n",
    "Traceback (most recent call last):\n",
    "  File \"<stdin>\", line 1, in <module>\n",
    "StopIteration\n",
    "```\n"
   ]
  },
  {
   "cell_type": "markdown",
   "metadata": {},
   "source": [
    "An iterator can only start at the beginning and finish at the end. It cannot go backwards, skip items, or find a particular item. Once it has reached the end, it cannot be restarted. If you do want to re-run the iteration, you have to request a fresh iterator.\n"
   ]
  },
  {
   "cell_type": "markdown",
   "metadata": {},
   "source": [
    "## Generators\n",
    "\n",
    "A generator <b>is</b> an iterator. It returns a sequence of values, one at a time, on receiving a call to its \\_\\_next\\_\\_() method.\n",
    "\n",
    "In a regular iterator, the sequence of values already exists, and the iterator simply returns each one in turn.\n",
    "\n",
    "In a generator, you can use the full power of Python to 'generate' each value in the sequence.\n",
    "\n",
    "Generators come in two forms - generator expressions and generator functions."
   ]
  },
  {
   "cell_type": "markdown",
   "metadata": {},
   "source": [
    "#### Generator expression\n",
    "\n",
    "A generator expression looks almost the same as a list comprehension -\n",
    "\n",
    "```\n",
    "my_gen = (expression for member in iterable (if condition))\n",
    "```\n",
    "\n",
    "The only difference is that it is enclosed in round brackets, not square brackets.\n",
    "\n",
    "As you have seen in the explanation of list comprehensions, using a very simple syntax you can achieve a lot."
   ]
  },
  {
   "cell_type": "markdown",
   "metadata": {},
   "source": [
    "#### Generator function\n",
    "\n",
    "If the logic required to generate the value cannot be handled in a generator expression, you can write a generator function.\n",
    "\n",
    "A generator function looks almost identical to a regular function. The only difference is that, somewhere in the function, the keyword 'yield' appears.\n",
    "\n",
    "When first introduced, some people felt that generator functions were sufficiently different from regular functions to merit their own keyword, such as using 'gen' instead of 'def'. For various reasons this was not accepted. If you are interested, read the PEP at https://www.python.org/dev/peps/pep-0255/\n"
   ]
  },
  {
   "cell_type": "markdown",
   "metadata": {},
   "source": [
    "A generator function looks something like this -\n",
    "\n",
    "```\n",
    "def my_gen(*args, **kwargs):\n",
    "    [perform any setup, such as opening a file or connecting to a database]\n",
    "    while True:  # there will always be some kind of looping mechanism\n",
    "        if [condition]:  # there may be some kind of test\n",
    "            yield value  # this is what makes it a generator function\n",
    "        else:\n",
    "            break  # something has to end the sequence, or it will continue forever!\n",
    "    [perform any wrapup, such as closing the database connection]\n",
    "```"
   ]
  },
  {
   "cell_type": "markdown",
   "metadata": {},
   "source": [
    "The sequence of events is different from calling a regular function.\n",
    "\n",
    "When a generator function is called, it returns a generator. Nothing in the function is executed yet.\n",
    "\n",
    "On the first call to \\_\\_next\\_\\_(), the function is executed line-by-line from the top, until it reaches the 'yield' statement.\n",
    "\n",
    "At that point, it will 'yield' (return) the value, and be suspended. The function remains alive, and all variables retain their current value.\n",
    "\n",
    "On the next call to \\_\\_next\\_\\_(), the function continues from the statement following the 'yield', and executes line-by-line until it reaches the same or another 'yield' statement (there is nothing to stop you having many 'yield' points).\n",
    "\n",
    "This continues until the code reaches a 'return' statement, or naturally reaches the end of the function. At that point, the function will automatically raise StopIteration. Unlike a regular function, it is not possible to return a value here."
   ]
  },
  {
   "cell_type": "markdown",
   "metadata": {},
   "source": [
    "```\n",
    ">>> def my_gen(max):\n",
    "...     print('starting execution')\n",
    "...     for i in range(max):\n",
    "...         print('yielding', i)\n",
    "...         yield i\n",
    "...     print('wrapping up')\n",
    "...\n",
    "\n",
    ">>> g = my_gen(5)\n",
    ">>> g\n",
    "<generator object my_gen at 0x00000187DF3E4B30>\n",
    "\n",
    ">>> for x in g:  # or simply 'for x in my_gen(5):'\n",
    "...   print('received', x)\n",
    "...\n",
    "starting execution\n",
    "yielding 0\n",
    "received 0\n",
    "yielding 1\n",
    "received 1\n",
    "yielding 2\n",
    "received 2\n",
    "yielding 3\n",
    "received 3\n",
    "yielding 4\n",
    "received 4\n",
    "wrapping up\n",
    ">>>\n",
    "```\n"
   ]
  },
  {
   "cell_type": "markdown",
   "metadata": {},
   "source": [
    "#### Example\n",
    "\n",
    "We will simulate 'filtering' a sequence by passing it through 3 filters before arriving at the sequence that we are interested in."
   ]
  },
  {
   "cell_type": "markdown",
   "metadata": {},
   "source": [
    "#### Using list comprehensions\n",
    "\n",
    "```\n",
    ">>> list_1 = [_ for _ in range(100) if not _%2]\n",
    ">>> list_2 = [_ for _ in list_1 if not _%3]\n",
    ">>> list_3 = [_ for _ in list_2 if not _%5]\n",
    ">>> my_iter = iter(list_3)\n",
    ">>> next(my_iter)\n",
    "0\n",
    ">>> next(my_iter)\n",
    "30\n",
    ">>> next(my_iter)\n",
    "60\n",
    ">>> next(my_iter)\n",
    "90\n",
    ">>> next(my_iter)\n",
    "Traceback (most recent call last):\n",
    "  File \"<stdin>\", line 1, in <module>\n",
    "StopIteration\n",
    "```"
   ]
  },
  {
   "cell_type": "markdown",
   "metadata": {},
   "source": [
    "#### Using generator expressions\n",
    "\n",
    "```\n",
    ">>> gen_1 = (_ for _ in range(100) if not _%2)\n",
    ">>> gen_2 = (_ for _ in gen_1 if not _%3)\n",
    ">>> gen_3 = (_ for _ in gen_2 if not _%5)\n",
    ">>> my_iter = iter(gen_3)  # not strictly necessary, as gen_3 is an iterator\n",
    ">>> next(my_iter)\n",
    "0\n",
    ">>> next(my_iter)\n",
    "30\n",
    ">>> next(my_iter)\n",
    "60\n",
    ">>> next(my_iter)\n",
    "90\n",
    ">>> next(my_iter)\n",
    "Traceback (most recent call last):\n",
    "  File \"<stdin>\", line 1, in <module>\n",
    "StopIteration```\n"
   ]
  },
  {
   "cell_type": "markdown",
   "metadata": {},
   "source": [
    "#### How to visualise what is happening under the hood\n",
    "\n",
    "Using list comprehensions and using generator expressions give identical results.\n",
    "\n",
    "But the way they achieve it is very different.\n",
    "\n",
    "How can we see the difference?\n",
    "\n",
    "```\n",
    "def mod_2(n):\n",
    "    print(f\"Mod 2 of {n} is {n%2}\")\n",
    "    return n%2\n",
    "\n",
    "def mod_3(n):\n",
    "    print(f\"Mod 3 of {n} is {n%3}\")\n",
    "    return n%3\n",
    "\n",
    "def mod_5(n):\n",
    "    print(f\"Mod 5 of {n} is {n%5}\")\n",
    "    return n%5\n",
    "```\n",
    "\n",
    "These 3 functions return exactly the same results as \\_%2, \\_%3, \\_%5, but with the print statement we can see when they are called.\n",
    "\n"
   ]
  },
  {
   "cell_type": "markdown",
   "metadata": {},
   "source": [
    "#### Visualise list comprehensions\n",
    "\n",
    "```\n",
    ">>> list_1 = [_ for _ in range(100) if not mod_2(_)]\n",
    "Mod 2 of 0 = 0\n",
    "Mod 2 of 1 = 1\n",
    "[snip 96 lines]\n",
    "Mod 2 of 98 = 0\n",
    "Mod 2 of 99 = 1\n",
    "\n",
    ">>> list_1\n",
    "[0, 2, 4, 6, 8, 10, 12, 14, 16, 18, 20, 22, 24, 26, 28, 30, 32, 34, 36, 38, 40, 42, 44, 46, 48, 50, 52, 54, 56, 58, 60, 62, 64, 66, 68, 70, 72, 74, 76, 78, 80, 82, 84, 86, 88, 90, 92, 94, 96, 98]\n",
    ">>>\n",
    "\n",
    ">>> list_2 = [_ for _ in list_1 if not mod_3(_)]\n",
    "Mod 3 of 0 = 0\n",
    "Mod 3 of 2 = 2\n",
    "Mod 3 of 4 = 1\n",
    "[snip 44 lines]\n",
    "Mod 3 of 94 = 1\n",
    "Mod 3 of 96 = 0\n",
    "Mod 3 of 98 = 2\n",
    "\n",
    ">>> list_2\n",
    "[0, 6, 12, 18, 24, 30, 36, 42, 48, 54, 60, 66, 72, 78, 84, 90, 96]\n",
    ">>>\n",
    "\n",
    ">>> list_3 = [_ for _ in list_2 if not mod_5(_)]\n",
    "Mod 5 of 0 = 0\n",
    "Mod 5 of 6 = 1\n",
    "Mod 5 of 12 = 2\n",
    "[snip 11 lines\n",
    "Mod 5 of 84 = 4\n",
    "Mod 5 of 90 = 0\n",
    "Mod 5 of 96 = 1\n",
    "\n",
    ">>> list_3\n",
    "[0, 30, 60, 90]\n",
    ">>>\n",
    "```\n"
   ]
  },
  {
   "cell_type": "markdown",
   "metadata": {},
   "source": [
    "#### Visualise generator expressions\n",
    "\n",
    "```\n",
    ">>> gen_1 = (_ for _ in range(100) if not mod_2(_))\n",
    ">>> gen_2 = (_ for _ in gen_1 if not mod_3(_))\n",
    ">>> gen_3 = (_ for _ in gen_2 if not mod_5(_))\n",
    "\n",
    ">>> gen_1\n",
    "<generator object <genexpr> at 0x0000021544243C10>\n",
    ">>> gen_2\n",
    "<generator object <genexpr> at 0x0000021544243DD0>\n",
    ">>> gen_3\n",
    "<generator object <genexpr> at 0x0000021544243CF0>\n",
    ">>>\n",
    "```\n",
    "\n",
    "As you can see, we have set up our 3 generator expressions, but nothing has happened yet.\n",
    "\n",
    "Now let's get the first item in the sequence.\n",
    "\n",
    "```\n",
    ">>> next(gen_3)\n",
    "Mod 2 of 0 = 0  # gen_1 called next, it satisfied the 'if' condition, so it yielded it\n",
    "Mod 3 of 0 = 0  # gen_2 called next, it satisfied the 'if' condition, so it yielded it\n",
    "Mod 5 of 0 = 0  # gen_3 called next, it satisfied the 'if' condition, so it yielded it\n",
    "0\n",
    ">>>\n",
    "```\n",
    "\n",
    "That one was easy, as they all returned the first item in the sequence."
   ]
  },
  {
   "cell_type": "markdown",
   "metadata": {},
   "source": [
    "Now let's get the next one -\n",
    "\n",
    "```\n",
    ">>> next(gen_3)\n",
    "Mod 2 of 1 = 1  # gen_1 called next, it did not satisfy the 'if' condition, so it continued\n",
    "Mod 2 of 2 = 0  # gen_1 called next, it satisfied the 'if' condition, so it yielded it\n",
    "Mod 3 of 2 = 2  # gen_2 received next from gen_1, it did not satisfy the 'if' condition, so it asked gen_1 for next\n",
    "Mod 2 of 3 = 1  # gen_1 called next, it did not satisfy the 'if' condition, so it continued\n",
    "Mod 2 of 4 = 0  # gen_1 called next, it satisfied the 'if' condition, so it yielded it\n",
    "Mod 3 of 4 = 1  # gen_2 received next from gen_1, it did not satisfy the 'if' condition, so it asked gen_1 for next\n",
    "Mod 2 of 5 = 1  # gen_1 called next, it did not satisfy the 'if' condition, so it continued\n",
    "Mod 2 of 6 = 0  # gen_1 called next, it satisfied the 'if' condition, so it yielded it\n",
    "Mod 3 of 6 = 0  # gen_2 received next from gen_1, it satisfied the 'if' condition, so it yielded it\n",
    "Mod 5 of 6 = 1  # gen_3 received next from gen_2, it did not satisfy the 'if' condition, so it asked gen_2 for next\n",
    "\n",
    "[snip 39 lines]\n",
    "\n",
    "Mod 5 of 30 = 0  # gen_3 received next from gen_2, it satisfied the 'if' condition, so it yielded it\n",
    "30\n",
    ">>>\n",
    "```"
   ]
  },
  {
   "cell_type": "markdown",
   "metadata": {},
   "source": [
    "#### Summary\n",
    "\n",
    "I won't show the rest (you can run it yourselves) but here is a summary of the results -\n",
    "\n",
    "list_1 called next() 100 times, list_2 called next() 50 times, list_3 called next() 17 times.\n",
    "\n",
    "Total for list comprehensions - 167 calls.\n",
    "They were all called before we requested the first item, and it created three lists.\n",
    "\n",
    "gen_1, gen_2, gen_3 made no calls before we requested the first item, and created no lists.\n",
    "\n",
    "The first call to next() resulted in 3 calls.\n",
    "The second call to next() resulted in 50 calls.\n",
    "The third call to next() resulted in 50 calls.\n",
    "The fourth call to next() resulted in 50 calls.\n",
    "The fifth call to next() resulted in 14 calls.\n",
    "\n",
    "Total for generator expressions - 167 calls.\n",
    "\n",
    "So the amount of work done by both methods is the same. The differences are that generator expressions do not create intermediate lists, and they return each result as soon as it has been evaluated.\n",
    "\n",
    "If you are dealing with large amounts of data, these differences can be significant.\n"
   ]
  },
  {
   "cell_type": "markdown",
   "metadata": {},
   "source": [
    "#### David Beazley on generators\n",
    "\n",
    "If you want to learn more about generators, and practical uses for them, I thoroughly recommend reading the presentations by David Beazley.\n",
    "\n",
    "http://www.dabeaz.com/generators/"
   ]
  },
  {
   "cell_type": "code",
   "execution_count": null,
   "metadata": {},
   "outputs": [],
   "source": []
  }
 ],
 "metadata": {
  "kernelspec": {
   "display_name": "Python 3",
   "language": "python",
   "name": "python3"
  },
  "language_info": {
   "codemirror_mode": {
    "name": "ipython",
    "version": 3
   },
   "file_extension": ".py",
   "mimetype": "text/x-python",
   "name": "python",
   "nbconvert_exporter": "python",
   "pygments_lexer": "ipython3",
   "version": "3.8.2"
  }
 },
 "nbformat": 4,
 "nbformat_minor": 4
}
