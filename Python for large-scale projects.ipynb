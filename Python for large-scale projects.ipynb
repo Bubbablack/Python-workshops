{
 "cells": [
  {
   "cell_type": "markdown",
   "metadata": {},
   "source": [
    "## Python for large projects\n",
    "\n",
    "One of the pleasures of working with Python is the degree of freedom it gives you. If you have a concept in your head, you can express it programatically, in a form that is easy to read, and get meaningful results, in a much shorter time than with most programming languages.\n",
    "\n",
    "However, if you are managing a team of Python programmers, and you let each one express their 'freedom' in their own way, you will quickly run into problems.\n",
    "\n",
    "\n",
    "So how do you impose some discipline over the process, without losing the advantages that Python gives you? Or to put it another way, how do you manage the project so that you can sleep peacefully at night?"
   ]
  },
  {
   "cell_type": "markdown",
   "metadata": {},
   "source": [
    "## Workflow\n",
    "\n",
    "You will be using a Version Control System - probably git. You need to have a procedure that is followed every time you accept updates to the core system. Here is an interesting article on one approach that has been successful -\n",
    "\n",
    "http://nvie.com/posts/a-successful-git-branching-model/\n",
    "\n",
    "Before accepting any updates, you will need to run one or more checks to ensure that the changes do not cause any problems. You can configure git to run these checks before committing.\n",
    "\n",
    "In reverse order, these are some of the checks you could run.\n"
   ]
  },
  {
   "cell_type": "markdown",
   "metadata": {},
   "source": [
    "#### Testing\n",
    "\n",
    "You will be using one of the several Python test suites - probably the built-in 'unittest', or the 3rd-party PyTest.\n",
    "\n",
    "The tests should cover as much of the code as possible, and should be run every time you try to commit any changes. If any test fails, the commit must be cancelled.\n",
    "\n",
    "It can happen that an error slips through and is only picked up in production. If this happens, obviously the first priority is to fix the bug and get an update shipped out.\n",
    "\n",
    "The second priority, which should happen immediately afterwards, is to write a test to detect the error and incorporate it into the test suite. That way you can be sure that this particular error will never get through in the future.\n"
   ]
  },
  {
   "cell_type": "markdown",
   "metadata": {},
   "source": [
    "#### Linting\n",
    "\n",
    "Linting is an invaluable tool for checking source code for programming errors. Two common Python ones are pylint (https://www.pylint.org/) and flake8 (https://flake8.pycqa.org/en/latest/).\n",
    "\n",
    "It makes sense for all programmers to use linting while they are working, as it will pick up many errors immediately, instead of waiting for them to causes errors at run-time.\n",
    "\n",
    "It also makes sense for the project manager to run a lint check before committing, and only allowing it to proceed it it runs without errors.\n",
    "\n",
    "Because linters are very pedantic about what they consider to be acceptable, it may be necessary to add 'rules'to the linter to allow certain coding practices to be allowed, depending on the programming standards being applied.\n",
    "\n"
   ]
  },
  {
   "cell_type": "markdown",
   "metadata": {},
   "source": [
    "#### Code formatting\n",
    "\n",
    "This is a fairly recent technique. The most common one for Python is called Black (https://github.com/psf/black).\n",
    "\n",
    "The idea behind it is very simple. Most good programmers try to write code that looks aesthetically pleasing. However, different programmers may have different ideas about 'good style'. In a team of programmers, you may find that a number of code alterations are purely cosmetic, and do not change the functionality at all. The problem is that, as far as git is concerned, these are all 'diffs' that have to be reviewed, checked, and committed. This adds an unnecessary burden on the maintainers.\n",
    "\n",
    "You could try to come up with your own style guide and insist that everyone follows it. But some people find it easier to 'outsource' this to a 3rd-party tool. This is where Black comes in. It has its own style-guide built in, so when you run it against your code base, it will reformat anything that does not conform. This ensures that all code will conform to the standard, and eliminates a source of spurious 'diffs'.\n",
    "\n",
    "It will surprise some programmers if they are not used to it. The code that they so carefully formatted will look different after the commit. However, they should quickly adapt to this and learn to focus on the code itself, not the way it looks.\n"
   ]
  },
  {
   "cell_type": "markdown",
   "metadata": {},
   "source": [
    "## Python enhancements\n",
    "\n",
    "One of Python's distinctive features is 'dynamic typing'. In many computer languages, before you can use a variable, you have to declare its type (int, str, float, etc). This is known as 'static typing'. Once declared, it is an error to try to assign a value of a different type to it. In Python this restriction does not apply - in the same function you can assign an int to 'x', and then assign a str to 'x'.\n",
    "\n",
    "Although powerful, this has a disadvantage. Languages with static typing can detect at compile time if a programmer tries to assign a value of a different type, so errors like this are picked up before running the program. In Python, it <b>might</b> be \n",
    "an error, but there is no way of telling until you actually run the program. In the past, this has been a reason for people to avoid using Python for larger projects.\n",
    "\n",
    "To address this, a number of enhancements have been added to Python over the last few years.\n"
   ]
  },
  {
   "cell_type": "markdown",
   "metadata": {},
   "source": [
    "#### Function annotations\n",
    "\n",
    "Function annotations were added in Python 3.0. See PEP3107 for details https://www.python.org/dev/peps/pep-3107/\n",
    "\n",
    "They allow you to declare the 'type' of a function's parameters and return values.\n",
    "\n",
    "Instead of\n",
    "\n",
    "```\n",
    ">>> import math\n",
    ">>> def circumference(radius):\n",
    "...     return 2 * math.pi * radius\n",
    "\n",
    "```\n",
    "\n",
    "you can now say\n",
    "\n",
    "```\n",
    ">>> import math\n",
    ">>> def circumference(radius: float) -> float:\n",
    "...     return 2 * math.pi * radius\n",
    "\n",
    "```\n",
    "\n",
    "It is important to understand that Python does <b>not</b> enforce this - you can still assign and return any value you like.\n",
    "\n",
    "What it does do is make the information available to 3rd-party tools like linters, type-checkers, and documentation generators.\n",
    "\n",
    "The information is made available via a new '\\_\\_annotations\\_\\_' attribute -\n",
    "\n",
    "```\n",
    ">>> circumference.__annotations__\n",
    "{'radius': <class 'float'>, 'return': <class 'float'>}\n",
    "```\n"
   ]
  },
  {
   "cell_type": "markdown",
   "metadata": {},
   "source": [
    "#### Variable annotations\n",
    "\n",
    "Variable annotations were added to Python in 3.6. See PEP526 for details https://www.python.org/dev/peps/pep-0526/\n",
    "\n",
    "They work exactly the same as function annotations, but can be applied to any variable -\n",
    "\n",
    "```\n",
    ">>> x: int = 'a'\n",
    ">>> __annotations__\n",
    "{'x': <class 'int'>}\n",
    ">>>\n",
    "```\n",
    "\n",
    "This illustrates the syntax, and also proves that Python does not enforce the type.\n"
   ]
  },
  {
   "cell_type": "markdown",
   "metadata": {},
   "source": [
    "#### Type hints\n",
    "\n",
    "Type hints were added in Python 3.5. See PEP484 for details https://www.python.org/dev/peps/pep-0484/\n",
    "\n",
    "This description is copied from the PEP -\n",
    "\n",
    "PEP 3107 introduced syntax for function annotations, but the semantics were deliberately left undefined. There has now been enough 3rd party usage for static type analysis that the community would benefit from a standard vocabulary and baseline tools within the standard library.\n",
    "\n",
    "This PEP introduces a provisional module to provide these standard definitions and tools, along with some conventions for situations where annotations are not available.\n",
    "\n",
    "Note that this PEP still explicitly does NOT prevent other uses of annotations, nor does it require (or forbid) any particular processing of annotations, even when they conform to this specification. It simply enables better coordination, as PEP 333 did for web frameworks.\n",
    "\n",
    "For example, here is a simple function whose argument and return type are declared in the annotations:\n",
    "\n",
    "```\n",
    "def greeting(name: str) -> str:\n",
    "    return 'Hello ' + name\n",
    "```\n",
    "\n",
    "While these annotations are available at runtime through the usual __annotations__ attribute, no type checking happens at runtime. Instead, the proposal assumes the existence of a separate off-line type checker which users can run over their source code voluntarily. Essentially, such a type checker acts as a very powerful linter. (While it would of course be possible for individual users to employ a similar checker at run time for Design By Contract enforcement or JIT optimization, those tools are not yet as mature.)"
   ]
  },
  {
   "cell_type": "markdown",
   "metadata": {},
   "source": [
    "#### MyPy\n",
    "\n",
    "Much of the above refers to 3rd-party tools. In fact there is one tool that stands out for its power and functionality. It is called MyPy - http://mypy-lang.org/\n",
    "\n",
    "This is copied from the home page -\n",
    "\n",
    "Mypy is an optional static type checker for Python that aims to combine the benefits of dynamic (or \"duck\") typing and static typing. Mypy combines the expressive power and convenience of Python with a powerful type system and compile-time type checking. Mypy type checks standard Python programs; run them using any Python VM with basically no runtime overhead.\n",
    "\n",
    "For maintainers of large Python software packages, it has become an invaluable tool, and is typically included in the chain of tools that is run before allowing any 'commits' into the code base.\n"
   ]
  },
  {
   "cell_type": "markdown",
   "metadata": {},
   "source": [
    "## abc - Abstract Base Classes\n",
    "\n"
   ]
  },
  {
   "cell_type": "markdown",
   "metadata": {},
   "source": [
    "I found this good explanation here - https://pymotw.com/2/abc/\n",
    "\n",
    "Abstract base classes are a form of interface checking more strict than individual hasattr() checks for particular methods. By defining an abstract base class, you can define a common API for a set of subclasses. This capability is especially useful in situations where a third-party is going to provide implementations, such as with plugins to an application, but can also aid you when working on a large team or with a large code-base where keeping all classes in your head at the same time is difficult or not possible.\n",
    "\n"
   ]
  },
  {
   "cell_type": "code",
   "execution_count": null,
   "metadata": {},
   "outputs": [],
   "source": []
  }
 ],
 "metadata": {
  "kernelspec": {
   "display_name": "Python 3",
   "language": "python",
   "name": "python3"
  },
  "language_info": {
   "codemirror_mode": {
    "name": "ipython",
    "version": 3
   },
   "file_extension": ".py",
   "mimetype": "text/x-python",
   "name": "python",
   "nbconvert_exporter": "python",
   "pygments_lexer": "ipython3",
   "version": "3.8.2"
  }
 },
 "nbformat": 4,
 "nbformat_minor": 4
}
