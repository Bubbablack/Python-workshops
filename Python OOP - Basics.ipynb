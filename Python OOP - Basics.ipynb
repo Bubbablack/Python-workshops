{
 "cells": [
  {
   "cell_type": "markdown",
   "metadata": {},
   "source": [
    "## Object Oriented Programming (OOP)\n",
    "\n",
    "As its name implies, OOP is concerned with programming using 'objects'.\n",
    "\n",
    "What is an object?\n",
    "\n",
    "An object can be described as a computer representation of 'something'. This could be something physical, like a person, an animal, an inventory item; or it could be something more abstract, such as a company, a message, a business process.\n",
    "\n",
    "All objects share these characteristics -\n",
    "\n",
    "1. They have 'attributes'. A person can have a name, an age, an address. A message can have a subject, a body, a list of recipients.\n",
    "\n",
    "2. They have 'behaviours'. A person can eat, sleep, run. A message can be modified, be sent, be deleted.\n",
    "\n"
   ]
  },
  {
   "cell_type": "markdown",
   "metadata": {},
   "source": [
    "#### Terminology\n",
    "\n",
    "There are many terms associated with OOP - class, , subclass, superclass, object, instance, attribute, method, inheritance, polymorphism, etc. In most cases it is fairly obvious what is being referred to, but most of the terms have no formal definition, and some of them have identical or very similar meanings to others. This provides scope for misunderstanding between two people usng the same term but with a different meaning. There is no magic answer to this problem, but my advice is 'If in doubt, spell it out'.\n",
    " In other words, in communication, do not assume that the other party shares your understanding of a term, be as specific as possible.\n"
   ]
  },
  {
   "cell_type": "markdown",
   "metadata": {},
   "source": [
    "#### Classes and instances\n",
    "\n",
    "Classes and instances are the building blocks of OOP. It can be difficult for novices to grasp the difference, so I will try to explain.\n",
    "\n",
    "A 'Class' is often referred to as a 'Class Definition'. I think this is a good starting point.\n",
    "\n",
    "Say you want to create an object that represents a dog. You have to decide what 'attributes' and 'behaviours' you want to keep track of. The 'Class Definition' is where you specify what attributes and behaviours your Dog will have. However, your Class Definition does not represent any particular dog. To create an actual dog, you have to create an 'instance' of your Dog class. Using the same Class Definition, you can create as many 'dog' instances as you like.\n"
   ]
  },
  {
   "cell_type": "markdown",
   "metadata": {},
   "source": [
    "To create a Dog class, without any attributes or behaviours at this stage, is easy -\n",
    "\n",
    "```\n",
    ">>> class Dog:\n",
    "...     pass\n",
    "...\n",
    ">>> Dog\n",
    "<class '__main__.Dog'>\n",
    ">>>\n",
    "\n",
    "```\n",
    "\n",
    "'pass' is a Python keyword which is used as a placeholder when some code is expected, but you have nothing in particular to put there."
   ]
  },
  {
   "cell_type": "markdown",
   "metadata": {},
   "source": [
    "To create one or more dog instances is also easy -\n",
    "\n",
    "```\n",
    ">>> rover = Dog()\n",
    ">>> fido = Dog()\n",
    "\n",
    ">>> type(rover)\n",
    "<class '__main__.Dog'>\n",
    ">>> type(fido)\n",
    "<class '__main__.Dog'>\n",
    ">>>\n",
    "\n",
    ">>> rover\n",
    "<__main__.Dog object at 0x0000023969AA0AF0>\n",
    ">>> fido\n",
    "<__main__.Dog object at 0x0000023969C22400>\n",
    "\n",
    "```\n",
    "\n",
    "Three points to notice here -\n",
    "\n",
    "1. By convention in Python, class names use CamelCase, instance names use lower_case_with_underscores.\n",
    "2. To create an instance, you 'call' the class, using brackets after the class name.\n",
    "3. You will see that Python calls the instances a 'Dog object'. The word 'object' here is synonymous with 'instance', and you will hear people using the two terms interchangeably. However, in other contexts 'object' could mean something else, so be aware when communicating with others.\n"
   ]
  },
  {
   "cell_type": "markdown",
   "metadata": {},
   "source": [
    "#### Adding attributes\n",
    "\n",
    "This bit is tricky to explain, so I will just do it, and then go through some of the points afterwards.\n",
    "\n",
    "Assume that you want every Dog instance to have a name, a colour, and a breed. This is how you do it.\n",
    "\n",
    "```\n",
    ">>> class Dog:\n",
    "...     def __init__(self, name, colour, breed):\n",
    "...         self.name = name\n",
    "...         self.colour = colour\n",
    "...         self.breed = breed\n",
    "...\n",
    ">>>\n",
    "```\n",
    "\n",
    "We have added what looks like a function, called '\\_\\_init\\_\\_'. It is a function, but when a function is defined inside a class definition it is called a 'method'.\n",
    "\n",
    "The first argument to \\_\\_init\\_\\_ is 'self'. 'self' is a reference to the instance that is created when you call Dog(). For now, just accept that every 'method' has to have 'self' as the first argument.\n",
    "\n",
    "The method will receive values for name, colour, and breed. At this point they are 'local variables', and will cease to exist when the method returns (remember every function/method returns a value - if not specified it returns None at the end).\n",
    "\n",
    "To preserve the values, we assign them to 'self'. This turns each of them into an 'instance attribute'. As you can see, Python (like most languages) uses 'dot' notation to associate an attribute with its instance.\n"
   ]
  },
  {
   "cell_type": "markdown",
   "metadata": {},
   "source": [
    "Then we create an instance of our new Dog definition -\n",
    "\n",
    "```\n",
    ">>> rover = Dog('Rover', 'brown', 'Boxer')\n",
    ">>> rover.name\n",
    "'Rover'\n",
    ">>> rover.colour\n",
    "'brown'\n",
    ">>> rover.breed\n",
    "'Boxer'\n",
    ">>>\n",
    "```\n",
    "\n",
    "Note that we did not have to 'call' __init__(). When you create an instance of a class, Python looks for a method called '__init__' in the class definition, and if it finds it it will execute it automatically.\n",
    "\n",
    "The values placed in brackets after the class name must match the arguments to the '__init__' method in the class definition. Note that you did not have to supply a value for 'self' - in fact it would be an error to do so. Python supplies that value automatically.\n"
   ]
  },
  {
   "cell_type": "markdown",
   "metadata": {},
   "source": [
    "Like any function, we can call it using postitional arguments or keyword arguments -\n",
    "\n",
    "```\n",
    ">>> fido = Dog(name='Fido', breed='Corgi', colour='grey')\n",
    ">>> fido.name\n",
    "'Fido'\n",
    ">>> fido.colour\n",
    "'grey'\n",
    ">>> fido.breed\n",
    "'Corgi'\n",
    ">>>\n",
    "```"
   ]
  },
  {
   "cell_type": "markdown",
   "metadata": {},
   "source": [
    "Also like any function, we can use default arguments -\n",
    "\n",
    "```\n",
    ">>> class Dog:\n",
    "...     def __init__(self, name, colour, breed='Unknown'):\n",
    "...         self.name = name\n",
    "...         self.colour = colour\n",
    "...         self.breed = breed\n",
    "...\n",
    ">>> spot = Dog('Spot', 'white')\n",
    ">>> spot.name\n",
    "'Spot'\n",
    ">>> spot.colour\n",
    "'white'\n",
    ">>> spot.breed\n",
    "'Unknown'\n",
    ">>>\n",
    "```"
   ]
  },
  {
   "cell_type": "markdown",
   "metadata": {},
   "source": [
    "#### Adding behaviour\n",
    "\n",
    "We can say that combining the various attributes of an instance give it a certain 'state'.\n",
    "\n",
    "Adding 'behaviour' is another way of saying that we want to change the 'state'.\n",
    "\n",
    "For example, a Dog instance may have a boolean attribute 'hungry'. If it is True, you will want to feed your dog. You can add this to your Class Definition by creating your own 'method'.\n",
    "\n",
    "```\n",
    ">>> class Dog:\n",
    "...     def __init__(self, name, colour, breed='Unknown'):\n",
    "...         self.name = name\n",
    "...         self.colour = colour\n",
    "...         self.breed = breed\n",
    "...         self.hungry = True\n",
    "...     def feed(self):\n",
    "...         self.hungry = False\n",
    "...\n",
    ">>> spot = Dog('spot', 'white')\n",
    ">>> spot.hungry\n",
    "True\n",
    ">>> spot.feed()\n",
    ">>> spot.hungry\n",
    "False\n",
    ">>>\n",
    "```\n"
   ]
  },
  {
   "cell_type": "markdown",
   "metadata": {},
   "source": [
    "First, note that, in \\_\\_init\\_\\_, we created a new attribute called 'hungry' and set it to True. This was not passed in as an argument, it will automatically be set for all new instances.\n",
    "\n",
    "Then we created a method called 'feed'. This is a simple example and takes no arguments apart from the mandatory 'self'.\n",
    "\n",
    "We checked the value for 'hungry', called our new method, and checked the value again. As you can see, the 'state' has changed.\n"
   ]
  },
  {
   "cell_type": "markdown",
   "metadata": {},
   "source": [
    "Methods are generally used for one of two purposes - to 'get' a value, or to 'set' a value.\n",
    "\n",
    "As we have seen, you do not need a method to 'get' an attribute - you can refer to it directly using 'dot' notation. But sometimes you want to use the various attributes to calculate a value and return the result.\n",
    "\n",
    "Here is an example where we use methods for both 'get' and 'set'.\n"
   ]
  },
  {
   "cell_type": "markdown",
   "metadata": {},
   "source": [
    "```\n",
    ">>> class Rectangle:\n",
    "...     def __init__(self, width, height):\n",
    "...         self.width = width\n",
    "...         self.height = height\n",
    "...     def get_area(self):\n",
    "...         return self.width * self.height\n",
    "...     def expand_area(self, factor=2):\n",
    "...         self.width = self.width * factor\n",
    "...         self.height = self.height * factor\n",
    "...     def expand_area(self, factor=2):\n",
    "...         self.width *= factor\n",
    "...         self.height *= factor\n",
    "...\n",
    ">>> rect = Rectangle(12.5, 7.25)\n",
    ">>> rect.get_area()\n",
    "90.625\n",
    ">>> rect.expand_area(3)\n",
    ">>> rect.width\n",
    "37.5\n",
    ">>> rect.height\n",
    "21.75\n",
    ">>> rect.get_area()\n",
    "815.625\n",
    ">>>\n",
    "```\n"
   ]
  },
  {
   "cell_type": "code",
   "execution_count": null,
   "metadata": {},
   "outputs": [],
   "source": []
  }
 ],
 "metadata": {
  "kernelspec": {
   "display_name": "Python 3",
   "language": "python",
   "name": "python3"
  },
  "language_info": {
   "codemirror_mode": {
    "name": "ipython",
    "version": 3
   },
   "file_extension": ".py",
   "mimetype": "text/x-python",
   "name": "python",
   "nbconvert_exporter": "python",
   "pygments_lexer": "ipython3",
   "version": "3.8.2"
  }
 },
 "nbformat": 4,
 "nbformat_minor": 4
}
