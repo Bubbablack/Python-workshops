{
 "cells": [
  {
   "cell_type": "markdown",
   "metadata": {},
   "source": [
    "## Object Oriented Programming (OOP)\n",
    "\n",
    "As its name implies, OOP is concerned with programming using 'objects'.\n",
    "\n",
    "What is an object?\n",
    "\n",
    "An object can be described as a computer representation of 'something'. This could be something physical, like a person, an animal, an inventory item; or it could be something more abstract, such as a company, a message, a business process.\n",
    "\n",
    "All objects share these characteristics -\n",
    "\n",
    "1. They have 'attributes'. A person can have a name, an age, an address. A message can have a subject, a body, a list of recipients.\n",
    "\n",
    "2. They have 'behaviours'. A person can eat, sleep, run. A message can be modified, be sent, be deleted.\n",
    "\n"
   ]
  },
  {
   "cell_type": "markdown",
   "metadata": {},
   "source": [
    "#### Terminology\n",
    "\n",
    "There are many terms associated with OOP - class, subclass, superclass, object, instance, attribute, method, inheritance, polymorphism, etc.\n",
    "\n",
    "In most cases it is fairly obvious what is being referred to, but most of the terms have no formal definition, and some of them have identical or very similar meanings to others. This provides scope for misunderstanding, when two people use the same term but with a different meaning. There is no magic answer to this problem, but my advice is 'If in doubt, spell it out'.\n",
    " In other words, in communication, do not assume that the other party shares your understanding of a term, be as specific as possible.\n",
    " \n",
    "I am not going to try to define the terms here, but we will come across many of them in the examples that follow.\n"
   ]
  },
  {
   "cell_type": "markdown",
   "metadata": {},
   "source": [
    "#### Classes and instances\n",
    "\n",
    "Classes and instances are the building blocks of OOP. It can be difficult for novices to grasp the difference, so I will try to explain.\n",
    "\n",
    "A 'Class' is often referred to as a 'Class Definition'. I think this is a good starting point.\n",
    "\n",
    "Say you want to create an object that represents a dog. You have to decide what 'attributes' and 'behaviours' you want to keep track of. The Class Definition is where you specify what attributes and behaviours your Dog will have. However, your Class Definition does not represent any particular dog, it is a 'blueprint' for all dogs. To create an actual dog, you have to create an 'instance' of your Dog class. Using the same Class Definition, you can create as many 'dog' instances as you like.\n"
   ]
  },
  {
   "cell_type": "markdown",
   "metadata": {},
   "source": [
    "To create a Dog class, without any attributes or behaviours at this stage, is easy -\n",
    "\n",
    "```\n",
    ">>> class Dog:\n",
    "...     pass\n",
    "...\n",
    ">>> Dog\n",
    "<class '__main__.Dog'>\n",
    ">>>\n",
    "\n",
    "```\n",
    "\n",
    "'pass' is a Python keyword which is used as a placeholder when some code is expected, but you have nothing in particular to put there.\n",
    "\n",
    "'\\_\\_main\\_\\_' would normally be the name of the module where your Class was defined. Because I am working in the interactive interpreter, Python uses this as the module name.\n",
    "\n"
   ]
  },
  {
   "cell_type": "markdown",
   "metadata": {},
   "source": [
    "To create one or more dog instances is also easy -\n",
    "\n",
    "```\n",
    ">>> rover = Dog()\n",
    ">>> fido = Dog()\n",
    "\n",
    ">>> type(rover)\n",
    "<class '__main__.Dog'>\n",
    ">>> type(fido)\n",
    "<class '__main__.Dog'>\n",
    ">>>\n",
    "\n",
    ">>> rover\n",
    "<__main__.Dog object at 0x0000023969AA0AF0>\n",
    ">>> fido\n",
    "<__main__.Dog object at 0x0000023969C22400>\n",
    "\n",
    "```\n",
    "\n",
    "Three points to notice here -\n",
    "\n",
    "1. By convention in Python, class names use CamelCase, instance names use lower_case_with_underscores.\n",
    "2. To create an instance, you 'call' the class, using brackets after the class name.\n",
    "3. You will see that Python calls the instances a 'Dog object'. The word 'object' here is synonymous with 'instance', and you will hear people using the two terms interchangeably. However, in other contexts 'object' could mean something else, so be aware when communicating with others.\n"
   ]
  },
  {
   "cell_type": "markdown",
   "metadata": {},
   "source": [
    "#### Adding attributes\n",
    "\n",
    "This bit is tricky to explain, so I will just do it, and then go through some of the points afterwards.\n",
    "\n",
    "Assume that you want every Dog instance to have a name, a colour, and a breed. This is how you do it.\n",
    "\n",
    "```\n",
    ">>> class Dog:\n",
    "...     def __init__(self, name, colour, breed):\n",
    "...         self.name = name\n",
    "...         self.colour = colour\n",
    "...         self.breed = breed\n",
    "...\n",
    ">>>\n",
    "```\n",
    "\n",
    "We have added what looks like a function, called '\\_\\_init\\_\\_'. It is a function, but when a function is defined inside a class definition it is called a 'method'.\n",
    "\n",
    "The first argument to \\_\\_init\\_\\_ is 'self'. 'self' is a reference to the instance that is created when you call Dog(). For now, just accept that every 'method' has to have 'self' as the first argument.\n",
    "\n",
    "The method will receive values for name, colour, and breed. At this point they are 'local variables', and will cease to exist when the method returns (remember every function/method returns a value - if not specified it returns None at the end).\n",
    "\n",
    "To preserve the values, we assign them to 'self'. This turns each of them into an 'instance attribute'. As you can see, Python (like many languages) uses 'dot' notation to associate an attribute with its instance.\n"
   ]
  },
  {
   "cell_type": "markdown",
   "metadata": {},
   "source": [
    "Then we create an instance of our new Dog definition -\n",
    "\n",
    "```\n",
    ">>> my_dog = Dog('Rover', 'brown', 'Boxer')\n",
    ">>> my_dog.name\n",
    "'Rover'\n",
    ">>> my_dog.colour\n",
    "'brown'\n",
    ">>> my_dog.breed\n",
    "'Boxer'\n",
    ">>>\n",
    "```\n",
    "\n",
    "Note that we did not have to 'call' \\_\\_init\\_\\_(). When you create an instance of a class, Python looks for a method called '\\_\\_init\\_\\_' in the class definition, and if it finds it it will call it automatically.\n",
    "\n",
    "The values placed in brackets after the class name must match the arguments to the '\\_\\_init\\_\\_' method in the class definition. Note that you did not have to supply a value for 'self' - in fact it would be an error to do so. Python supplies that value automatically.\n"
   ]
  },
  {
   "cell_type": "markdown",
   "metadata": {},
   "source": [
    "Like any function, we can call it using postitional arguments or keyword arguments -\n",
    "\n",
    "```\n",
    ">>> my_dog = Dog(name='Fido', breed='Corgi', colour='grey')\n",
    ">>> my_dog.name\n",
    "'Fido'\n",
    ">>> my_dog.colour\n",
    "'grey'\n",
    ">>> my_dog.breed\n",
    "'Corgi'\n",
    ">>>\n",
    "```"
   ]
  },
  {
   "cell_type": "markdown",
   "metadata": {},
   "source": [
    "Also like any function, we can use default arguments -\n",
    "\n",
    "```\n",
    ">>> class Dog:\n",
    "...     def __init__(self, name, colour, breed='Unknown'):\n",
    "...         self.name = name\n",
    "...         self.colour = colour\n",
    "...         self.breed = breed\n",
    "...\n",
    ">>> my_dog = Dog('Spot', 'white')\n",
    ">>> my_dog.name\n",
    "'Spot'\n",
    ">>> my_dog.colour\n",
    "'white'\n",
    ">>> my_dog.breed\n",
    "'Unknown'\n",
    ">>>\n",
    "```"
   ]
  },
  {
   "cell_type": "markdown",
   "metadata": {},
   "source": [
    "#### Adding behaviour\n",
    "\n",
    "We can say that combining the various attributes of an instance give it a certain 'state'.\n",
    "\n",
    "Adding 'behaviour' is another way of saying that we want to change the 'state'.\n",
    "\n",
    "For example, a Dog instance may have a boolean attribute 'hungry'. If it is True, you will want to feed your dog. You can add this to your Class Definition by creating your own 'method'.\n",
    "\n",
    "```\n",
    ">>> class Dog:\n",
    "...     def __init__(self, name, colour, breed='Unknown'):\n",
    "...         self.name = name\n",
    "...         self.colour = colour\n",
    "...         self.breed = breed\n",
    "...         self.hungry = True\n",
    "...     def feed(self):\n",
    "...         self.hungry = False\n",
    "...\n",
    ">>> my_dog = Dog('spot', 'white')\n",
    ">>> my_dog.hungry\n",
    "True\n",
    ">>> my_dog.feed()\n",
    ">>> my_dog.hungry\n",
    "False\n",
    ">>>\n",
    "```\n"
   ]
  },
  {
   "cell_type": "markdown",
   "metadata": {},
   "source": [
    "First, note that, in \\_\\_init\\_\\_, we created a new attribute called 'hungry' and set it to True. This was not passed in as an argument, it will automatically be set for all new instances.\n",
    "\n",
    "Then we created a method called 'feed'. This is a simple example and takes no arguments apart from the mandatory 'self'.\n",
    "\n",
    "We checked the value for 'hungry', called our new method, and checked the value again. As you can see, the 'state' has changed.\n"
   ]
  },
  {
   "cell_type": "markdown",
   "metadata": {},
   "source": [
    "#### Methods\n",
    "\n",
    "Methods are generally used for one of two purposes - to 'get' a value, or to 'set' a value.\n",
    "\n",
    "As we have seen, you do not need a method to 'get' an attribute - you can refer to it directly using 'dot' notation. But sometimes you want to use various attributes to calculate a value and return the result.\n",
    "\n",
    "Here is an example where we use methods for both 'get' and 'set'.\n"
   ]
  },
  {
   "cell_type": "markdown",
   "metadata": {},
   "source": [
    "```\n",
    ">>> class Rectangle:\n",
    "...     def __init__(self, width, height):\n",
    "...         self.width = width\n",
    "...         self.height = height\n",
    "...     def get_area(self):\n",
    "...         return self.width * self.height\n",
    "...     def expand_area(self, factor=2):\n",
    "...         self.width *= factor\n",
    "...         self.height *= factor\n",
    "...\n",
    ">>> rect = Rectangle(12.5, 7.25)\n",
    ">>> rect.get_area()\n",
    "90.625\n",
    ">>> rect.expand_area(3)\n",
    ">>> rect.width\n",
    "37.5\n",
    ">>> rect.height\n",
    "21.75\n",
    ">>> rect.get_area()\n",
    "815.625\n",
    ">>>\n",
    "```\n"
   ]
  },
  {
   "cell_type": "markdown",
   "metadata": {},
   "source": [
    "#### Typical uses\n",
    "\n",
    "Once you get used to using classes and instances, it becomes a natural way of programming.\n",
    "\n",
    "In my previous workshop on 'Functions - Intermediate', I gave an example of a recursive function by creating a 'tree' of objects and then writing a function to 'show' any tree with any number of nodes and levels using 4 lines of code.\n",
    "\n",
    "To create the tree, I started by creating a class called Node. Then I realised that I could not use that as we had not covered OOP yet, so I used a dictionary instead. It would have been much easier to use a class, like this.\n"
   ]
  },
  {
   "cell_type": "markdown",
   "metadata": {},
   "source": [
    "```\n",
    "    def get_new_name():\n",
    "        \"\"\" Generate a new name from three random characters in the range a-z.\"\"\"\n",
    "        from random import randint\n",
    "        return chr(randint(97,122)) + chr(randint(97,122)) + chr(randint(97,122))\n",
    "\n",
    "    class Node:\n",
    "        def __init__(self, name):\n",
    "            self.name = name\n",
    "            self.children = []\n",
    "        def add_child(self, child_name):\n",
    "            child = Node(child_name)\n",
    "            self.children.append(child)\n",
    "            return child\n",
    "        def show_tree(self, indent=0):\n",
    "            for child in self.children:\n",
    "                child.show_tree(indent+4)\n",
    "            print(f'{\" \"*indent}{self.name}')\n",
    "\n",
    "    root = Node('root')\n",
    "    for i in range(3):\n",
    "        child = root.add_child(get_new_name())\n",
    "        for j in range(3):\n",
    "            grandchild = child.add_child(get_new_name())\n",
    "\n",
    "    root.show_tree()\n",
    "```\n"
   ]
  },
  {
   "cell_type": "markdown",
   "metadata": {},
   "source": [
    "Here is the output -\n",
    "\n",
    "```\n",
    "        qvw\n",
    "        fky\n",
    "        elr\n",
    "    ogd\n",
    "        ikz\n",
    "        hiz\n",
    "        udt\n",
    "    ysk\n",
    "        wig\n",
    "        iyk\n",
    "        est\n",
    "    kcb\n",
    "root\n",
    "```\n",
    "\n",
    "Compare this code with the one using a dictionary and see which one you find easier to follow.\n"
   ]
  },
  {
   "cell_type": "markdown",
   "metadata": {},
   "source": [
    "## Subclasses\n",
    "\n",
    "Say that you have a class called Vehicle, representing a form of transport.\n",
    "\n",
    "You may want to break it down into subclasses for Car, Van, and Bakkie.\n",
    "\n",
    "This is called inheritance, or a derived class, or a subclass. The class that it inherits from is known as the parent class or superclass.\n",
    "\n",
    "The idea is that the parent class, Vehicle, contains common characteristics, such as make and registration number, but each subclass can contain its own characteristics.\n",
    "\n",
    "A subclass initially inherits all attributes and methods (aka properties) defined in the parent class.\n",
    "\n",
    "Then you can decide which parts of the subclass should differ from the parent class. You can add properties to the subclass, either with names that exist in the parent class or with names that do not exist.\n",
    "\n",
    "When you reference any property of the subclass, Python looks to see if it is defined in the subclass. If it is, it will use it. If it is not, it will look in the parent class. If it finds it there, it will use it. Otherwise an exception will be raised.\n",
    "\n",
    "This means that you can over-ride properties in the parent class, by creating properties with the same name as in the parent class, or you can add new functionality, by creating properties with new names.\n"
   ]
  },
  {
   "cell_type": "markdown",
   "metadata": {},
   "source": [
    "#### Abstract classes\n",
    "\n",
    "Sometimes your parent class is the one that is normally used, and the subclass is available for objects that have additional features.\n",
    "\n",
    "For example, you might have a class called Rectangle, which requires a width and a height, and you might declare a subclass called Square, which inherits all the properties of a Rectangle but only requires a width to instantiate it.\n",
    "\n",
    "In other cases, your parent class might represent a 'generic' object where all subclasses share common characteristics, but you do not want a user to actually instantiate the parent class.\n",
    "\n",
    "In our earlier example, Vehicle could be a parent class, and Car, Van, and Bakkie could be subclasses. It would not make sense to instantiate Vehicle, as you need to specify what kind of vehicle it is.\n",
    "\n",
    "In this situation, Vehicle is known as an 'abstract' class, not to be instantiated. Python provides specific support for this concept in the 'abc' module (Abstract Base Classes).\n"
   ]
  },
  {
   "cell_type": "markdown",
   "metadata": {},
   "source": [
    "#### Example\n",
    "\n",
    "To demonstrate subclassing, I will use a simplified example from my business/accounting project.\n",
    "\n",
    "I have a class that represents a unit of data stored in a database. A database is made up of tables, a table is made up of rows, and a row is made up of columns. This class represents a column.\n",
    "\n",
    "Each column has its own datatype. There can be many, but here I will focus on Text and Integer.\n",
    "\n",
    "The class has a method to 'get' a value, which will be read from the database and returned to the caller, and a method to 'set' a value, which is used to receive a value from the caller and update the database. I want to ensure that the value received from the caller is valid for its datatype.\n"
   ]
  },
  {
   "cell_type": "markdown",
   "metadata": {},
   "source": [
    "```\n",
    "class Column:\n",
    "    def __init__(self, col_name):\n",
    "        self.col_name = col_name\n",
    "        self.value = None\n",
    "    def getval(self):\n",
    "        return self.value\n",
    "\n",
    "class Text(Column):\n",
    "    def setval(self, value):\n",
    "        if not isinstance(value, str):\n",
    "            print('Must be a string')\n",
    "            return\n",
    "        self.value = value\n",
    "        print(f\"Value of '{self.col_name}' set to {value}\")\n",
    "\n",
    "class Integer(Column):\n",
    "    def setval(self, value):\n",
    "        if not isinstance(value, int):\n",
    "            print('Must be an integer')\n",
    "            return\n",
    "        self.value = value\n",
    "        print(f\"Value of '{self.col_name}' set to {value}\")\n",
    "```\n"
   ]
  },
  {
   "cell_type": "markdown",
   "metadata": {},
   "source": [
    "We start by creating a class called Column. I have just shown the attributes for col_name and value.\n",
    "\n",
    "Then we create a subclass for each datatype. You will see that the class definition looks different. After the class name we place the name of the parent class in brackets. This is how you declare a subclass. Text and Integer 'inherit' from Column.\n",
    "\n",
    "Column has a method called 'getval'. This will work identically for all subclasses.\n",
    "\n",
    "We need a method called 'setval', but this will not work identically for all subclasses, so it is defined separately in each subclass.\n"
   ]
  },
  {
   "cell_type": "markdown",
   "metadata": {},
   "source": [
    "Let's run it and see what happens.\n",
    "\n",
    "```\n",
    "name = Text('name')\n",
    "name.setval(123)\n",
    "name.setval('Abc')\n",
    "\n",
    "amount = Integer('amount')\n",
    "amount.setval(123.45)\n",
    "amount.setval(123)\n",
    "\n",
    "print()\n",
    "print(name.getval())\n",
    "print(amount.getval())\n",
    "\n",
    "```\n",
    "\n",
    "The output is -\n",
    "\n",
    "```\n",
    "Must be a string\n",
    "Value of 'name' set to Abc\n",
    "Must be an integer\n",
    "Value of 'amount' set to 123\n",
    "\n",
    "Abc\n",
    "123\n",
    "```\n"
   ]
  },
  {
   "cell_type": "code",
   "execution_count": null,
   "metadata": {},
   "outputs": [],
   "source": []
  }
 ],
 "metadata": {
  "kernelspec": {
   "display_name": "Python 3",
   "language": "python",
   "name": "python3"
  },
  "language_info": {
   "codemirror_mode": {
    "name": "ipython",
    "version": 3
   },
   "file_extension": ".py",
   "mimetype": "text/x-python",
   "name": "python",
   "nbconvert_exporter": "python",
   "pygments_lexer": "ipython3",
   "version": "3.8.2"
  }
 },
 "nbformat": 4,
 "nbformat_minor": 4
}
